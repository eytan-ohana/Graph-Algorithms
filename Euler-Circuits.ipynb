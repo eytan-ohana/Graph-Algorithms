{
 "cells": [
  {
   "cell_type": "markdown",
   "metadata": {},
   "source": [
    "# Euler Circuits\n",
    "\n",
    "Euler circuits are a special type of circuit where every edge in the graph is used exactly once. Graphs that have euler circuits must have the following properties:\n",
    "\n",
    "1. The graph must be connected.\n",
    "1. If the graph is *undirected* then every vertex must have an even-degree.\n",
    "1. If the graph is *directed* then the in-degree must be the same as the out-degree for every vertex.\n"
   ]
  },
  {
   "cell_type": "code",
   "execution_count": null,
   "metadata": {},
   "outputs": [],
   "source": []
  }
 ],
 "metadata": {
  "kernelspec": {
   "display_name": "Graph-Algos",
   "language": "python",
   "name": "graph-algos"
  },
  "language_info": {
   "codemirror_mode": {
    "name": "ipython",
    "version": 3
   },
   "file_extension": ".py",
   "mimetype": "text/x-python",
   "name": "python",
   "nbconvert_exporter": "python",
   "pygments_lexer": "ipython3",
   "version": "3.7.9"
  }
 },
 "nbformat": 4,
 "nbformat_minor": 4
}
