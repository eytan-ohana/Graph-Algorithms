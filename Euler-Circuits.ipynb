{
 "cells": [
  {
   "cell_type": "markdown",
   "metadata": {},
   "source": [
    "# Euler Circuits\n",
    "\n",
    "Euler circuits are a special type of circuit where every edge in the graph is used exactly once. Graphs that have euler circuits must have the following properties:\n",
    "\n",
    "1. The graph must be connected.\n",
    "1. If the graph is *undirected* then every vertex must have an even-degree.\n",
    "1. If the graph is *directed* then the in-degree must be the same as the out-degree for every vertex.\n"
   ]
  },
  {
   "cell_type": "code",
   "execution_count": 1,
   "metadata": {},
   "outputs": [],
   "source": [
    "import networkx as nx\n",
    "import matplotlib.pyplot as plt\n",
    "import numpy as np\n",
    "import random\n",
    "import imageio\n",
    "import os\n",
    "from IPython.display import Image\n",
    "from helper import draw_graph, clear_marks"
   ]
  },
  {
   "cell_type": "markdown",
   "metadata": {},
   "source": [
    "## How the algorithm works\n",
    "\n",
    "pseudocode:\n",
    "```\n",
    "function euler_circuit(G):\n",
    "    init an empty list to store our path --> paths_list\n",
    "    choose a random start node\n",
    "    choose a random unvisited path till we reach our start node.\n",
    "    add the path to our list (it will look [a, b, ..., x, ...,a])\n",
    "    for any node, x, in the path that has unvisted edges connected to it:\n",
    "        choose a random unvisited path till we reach x again ([x, c, ..., g, x])\n",
    "        add this path in where x was in the original path ([a, b, ..., x, c, ..., g, x, ..., a])\n",
    "        repeat until every edge is marked.\n",
    "```\n",
    "\n",
    "The algorithm tries finds cycles in the graph and creates a path from it. Then it just keeps finding new cycles and adds these paths in with the original cycle and builds up the euler-circuit.\n",
    "\n",
    "For example: If we find a cycle in he graph starting and ending at node a then that first cycle becomes our path (a, ..., x, ..., a). We then find another __unvisited__ cycle starting and ending at x (x, ..., b, ..., x). We just replace x in our original path with with our new path to get (a, ..., x, ..., b, ..., x, ..., a)"
   ]
  },
  {
   "cell_type": "code",
   "execution_count": 2,
   "metadata": {},
   "outputs": [],
   "source": [
    "def find_cycle(G, start_node):\n",
    "    cycle = [start_node]\n",
    "    prev = start_node\n",
    "    while True:\n",
    "        rand_neighbor = random.choice([n for n in G.adj[prev] if not G.adj[prev][n].get('marked')])\n",
    "        if not G.edges[(prev, rand_neighbor)].get('marked'):\n",
    "            G.edges[prev, rand_neighbor]['marked'] = True\n",
    "            cycle.append(rand_neighbor)\n",
    "            prev = rand_neighbor\n",
    "        if prev == start_node:\n",
    "            break\n",
    "    return cycle\n",
    "\n",
    "def euler_circuit(G):\n",
    "    G = G.copy()\n",
    "    start = random.choice(list(G.nodes))\n",
    "    circuit = find_cycle(G, start)\n",
    "    start_search = 0\n",
    "    while True:\n",
    "        for i, node in enumerate(circuit[start_search:]):\n",
    "            if len(list(n for n in G.adj[node] if not G.adj[node][n].get('marked'))) > 0:\n",
    "                cycle = find_cycle(G, node)\n",
    "                start_search += i\n",
    "                circuit = circuit[:start_search] + cycle + circuit[start_search+1:]\n",
    "                break\n",
    "        else:\n",
    "              return circuit"
   ]
  },
  {
   "cell_type": "code",
   "execution_count": 3,
   "metadata": {},
   "outputs": [
    {
     "data": {
      "image/png": "[encoded data removed]",
      "text/plain": [
       "<Figure size 432x288 with 1 Axes>"
      ]
     },
     "metadata": {},
     "output_type": "display_data"
    }
   ],
   "source": [
    "# In an undirected complete graph with N vertices.\n",
    "# the degree of each vertex is N - 1.\n",
    "G = nx.complete_graph(5)\n",
    "nx.draw(G, with_labels=1)"
   ]
  },
  {
   "cell_type": "code",
   "execution_count": 4,
   "metadata": {},
   "outputs": [
    {
     "data": {
      "text/plain": [
       "[0, 4, 1, 3, 2, 0, 3, 4, 2, 1, 0]"
      ]
     },
     "execution_count": 4,
     "metadata": {},
     "output_type": "execute_result"
    }
   ],
   "source": [
    "euler_circuit(G)"
   ]
  },
  {
   "cell_type": "code",
   "execution_count": 5,
   "metadata": {},
   "outputs": [
    {
     "data": {
      "text/html": [
       "<img src=\"euler.gif\"/>"
      ],
      "text/plain": [
       "<IPython.core.display.Image object>"
      ]
     },
     "execution_count": 5,
     "metadata": {},
     "output_type": "execute_result"
    },
    {
     "data": {
      "text/plain": [
       "<Figure size 432x288 with 0 Axes>"
      ]
     },
     "metadata": {},
     "output_type": "display_data"
    }
   ],
   "source": [
    "def animate_euler(G, circ=None):\n",
    "    if not circ:\n",
    "        circ = euler_circuit(G)\n",
    "    pos = nx.spring_layout(G)\n",
    "    fig, ax = plt.subplots()\n",
    "\n",
    "    nx.draw_networkx_nodes(G, pos,\n",
    "                           nodelist=G.nodes,\n",
    "                           node_color='#00bbff',\n",
    "                           ax=ax)\n",
    "    \n",
    "    nx.draw_networkx_edges(G, pos,\n",
    "                           edgelist=G.edges,\n",
    "                           ax=ax)\n",
    "    labels = {n: n for n in G.nodes}\n",
    "    nx.draw_networkx_labels(G, pos, labels, font_size=14, ax=ax)\n",
    "    ax.axis('off')\n",
    "    plt.savefig('.tmp0.png')\n",
    "    tmp_files = ['.tmp0.png']\n",
    "    marked_edges = []\n",
    "    for i, edge in enumerate(zip(circ, circ[1:]), 1):\n",
    "        marked_edges.append(edge)\n",
    "        unmarked_edges = list(set(G.edges) - set(marked_edges) - set(e[::-1] for e in marked_edges))\n",
    "        ax.clear()\n",
    "        nx.draw_networkx_nodes(G, pos,\n",
    "                               nodelist=G.nodes,\n",
    "                               node_color='#00bbff',\n",
    "                               ax=ax)\n",
    "        nx.draw_networkx_edges(G, pos,\n",
    "                               edgelist=marked_edges,\n",
    "                               edge_color ='#b300ff',\n",
    "                               ax=ax)\n",
    "        nx.draw_networkx_edges(G, pos,\n",
    "                               edgelist=unmarked_edges,\n",
    "                               ax=ax)\n",
    "        nx.draw_networkx_labels(G, pos, labels, font_size=14, ax=ax)\n",
    "        ax.axis('off')\n",
    "        tmp_files.append(f'.tmp{i}.png')\n",
    "        plt.savefig(tmp_files[-1])\n",
    "    ax.remove()\n",
    "    with imageio.get_writer('euler.gif', mode='I') as writer:\n",
    "        for file in tmp_files:\n",
    "            image = imageio.imread(file)\n",
    "            for _ in range(5):\n",
    "                writer.append_data(image)\n",
    "            os.remove(file)\n",
    "        \n",
    "    return Image(url='euler.gif') \n",
    "\n",
    "animate_euler(G)"
   ]
  },
  {
   "cell_type": "markdown",
   "metadata": {},
   "source": [
    "![](euler.gif)"
   ]
  },
  {
   "cell_type": "code",
   "execution_count": null,
   "metadata": {},
   "outputs": [],
   "source": []
  }
 ],
 "metadata": {
  "kernelspec": {
   "display_name": "Graph-Algos",
   "language": "python",
   "name": "graph-algos"
  },
  "language_info": {
   "codemirror_mode": {
    "name": "ipython",
    "version": 3
   },
   "file_extension": ".py",
   "mimetype": "text/x-python",
   "name": "python",
   "nbconvert_exporter": "python",
   "pygments_lexer": "ipython3",
   "version": "3.7.9"
  }
 },
 "nbformat": 4,
 "nbformat_minor": 4
}
