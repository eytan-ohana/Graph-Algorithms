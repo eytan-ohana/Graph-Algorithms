{
 "cells": [
  {
   "cell_type": "markdown",
   "metadata": {},
   "source": [
    "# Euler Circuits\n",
    "\n",
    "Euler circuits are a special type of circuit where every edge in the graph is used exactly once. Graphs that have euler circuits must have the following properties:\n",
    "\n",
    "1. The graph must be connected.\n",
    "1. If the graph is *undirected* then every vertex must have an even-degree.\n",
    "1. If the graph is *directed* then the in-degree must be the same as the out-degree for every vertex.\n"
   ]
  },
  {
   "cell_type": "code",
   "execution_count": 2,
   "metadata": {},
   "outputs": [
    {
     "ename": "ModuleNotFoundError",
     "evalue": "No module named 'matplotlib'",
     "output_type": "error",
     "traceback": [
      "\u001b[0;31m---------------------------------------------------------------------------\u001b[0m",
      "\u001b[0;31mModuleNotFoundError\u001b[0m                       Traceback (most recent call last)",
      "\u001b[0;32m<ipython-input-2-a3379b3f1fc4>\u001b[0m in \u001b[0;36m<module>\u001b[0;34m\u001b[0m\n\u001b[1;32m      1\u001b[0m \u001b[0;32mimport\u001b[0m \u001b[0mnetworkx\u001b[0m \u001b[0;32mas\u001b[0m \u001b[0mnx\u001b[0m\u001b[0;34m\u001b[0m\u001b[0;34m\u001b[0m\u001b[0m\n\u001b[0;32m----> 2\u001b[0;31m \u001b[0;32mimport\u001b[0m \u001b[0mmatplotlib\u001b[0m\u001b[0;34m.\u001b[0m\u001b[0mpyplot\u001b[0m \u001b[0;32mas\u001b[0m \u001b[0mplt\u001b[0m\u001b[0;34m\u001b[0m\u001b[0;34m\u001b[0m\u001b[0m\n\u001b[0m\u001b[1;32m      3\u001b[0m \u001b[0;32mimport\u001b[0m \u001b[0mnumpy\u001b[0m \u001b[0;32mas\u001b[0m \u001b[0mnp\u001b[0m\u001b[0;34m\u001b[0m\u001b[0;34m\u001b[0m\u001b[0m\n\u001b[1;32m      4\u001b[0m \u001b[0;32mimport\u001b[0m \u001b[0mrandom\u001b[0m\u001b[0;34m\u001b[0m\u001b[0;34m\u001b[0m\u001b[0m\n\u001b[1;32m      5\u001b[0m \u001b[0;32mfrom\u001b[0m \u001b[0mhelper\u001b[0m \u001b[0;32mimport\u001b[0m \u001b[0mdraw_graph\u001b[0m\u001b[0;34m,\u001b[0m \u001b[0mclear_marks\u001b[0m\u001b[0;34m,\u001b[0m \u001b[0manimate_euler\u001b[0m\u001b[0;34m\u001b[0m\u001b[0;34m\u001b[0m\u001b[0m\n",
      "\u001b[0;31mModuleNotFoundError\u001b[0m: No module named 'matplotlib'"
     ]
    }
   ],
   "source": [
    "import networkx as nx\n",
    "import matplotlib.pyplot as plt\n",
    "import numpy as np\n",
    "import random\n",
    "from helper import draw_graph, clear_marks, animate_euler"
   ]
  },
  {
   "cell_type": "markdown",
   "metadata": {},
   "source": [
    "## How the algorithm works\n",
    "\n",
    "pseudocode:\n",
    "```\n",
    "function euler_circuit(G):\n",
    "    init an empty list to store our path --> paths_list\n",
    "    choose a random start node\n",
    "    choose a random unvisited path till we reach our start node.\n",
    "    add the path to our list (it will look [a, b, ..., x, ...,a])\n",
    "    for any node, x, in the path that has unvisted edges connected to it:\n",
    "        choose a random unvisited path till we reach x again ([x, c, ..., g, x])\n",
    "        add this path in where x was in the original path ([a, b, ..., x, c, ..., g, x, ..., a])\n",
    "        repeat until every edge is marked.\n",
    "```\n",
    "\n",
    "The algorithm tries finds cycles in the graph and creates a path from it. Then it just keeps finding new cycles and adds these paths in with the original cycle and builds up the euler-circuit.\n",
    "\n",
    "For example: If we find a cycle in he graph starting and ending at node a then that first cycle becomes our path (a, ..., x, ..., a). We then find another __unvisited__ cycle starting and ending at x (x, ..., b, ..., x). We just replace x in our original path with with our new path to get (a, ..., x, ..., b, ..., x, ..., a)"
   ]
  },
  {
   "cell_type": "code",
   "execution_count": null,
   "metadata": {},
   "outputs": [],
   "source": [
    "def find_cycle(G, start_node):\n",
    "    cycle = [start_node]\n",
    "    prev = start_node\n",
    "    while True:\n",
    "        rand_neighbor = random.choice([n for n in G.adj[prev] if not G.adj[prev][n].get('marked')])\n",
    "        if not G.edges[(prev, rand_neighbor)].get('marked'):\n",
    "            G.edges[prev, rand_neighbor]['marked'] = True\n",
    "            cycle.append(rand_neighbor)\n",
    "            prev = rand_neighbor\n",
    "        if prev == start_node:\n",
    "            break\n",
    "    return cycle\n",
    "\n",
    "def euler_circuit(G):\n",
    "    G = G.copy()\n",
    "    start = random.choice(list(G.nodes))\n",
    "    circuit = find_cycle(G, start)\n",
    "    start_search = 0\n",
    "    while True:\n",
    "        for i, node in enumerate(circuit[start_search:]):\n",
    "            if len(list(n for n in G.adj[node] if not G.adj[node][n].get('marked'))) > 0:\n",
    "                cycle = find_cycle(G, node)\n",
    "                start_search += i\n",
    "                circuit = circuit[:start_search] + cycle + circuit[start_search+1:]\n",
    "                break\n",
    "        else:\n",
    "              return circuit"
   ]
  },
  {
   "cell_type": "code",
   "execution_count": null,
   "metadata": {},
   "outputs": [],
   "source": [
    "# In an undirected complete graph with N vertices.\n",
    "# the degree of each vertex is N - 1.\n",
    "G = nx.complete_graph(5)\n",
    "nx.draw(G, with_labels=1)"
   ]
  },
  {
   "cell_type": "code",
   "execution_count": null,
   "metadata": {},
   "outputs": [],
   "source": [
    "circuit = euler_circuit(G)\n",
    "print(circuit)\n",
    "animate_euler(G, circuit)"
   ]
  }
 ],
 "metadata": {
  "kernelspec": {
   "display_name": "Graph-Algos",
   "language": "python",
   "name": "graph-algos"
  },
  "language_info": {
   "codemirror_mode": {
    "name": "ipython",
    "version": 3
   },
   "file_extension": ".py",
   "mimetype": "text/x-python",
   "name": "python",
   "nbconvert_exporter": "python",
   "pygments_lexer": "ipython3",
   "version": "3.7.9"
  }
 },
 "nbformat": 4,
 "nbformat_minor": 4
}
