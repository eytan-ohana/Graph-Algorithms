{
 "cells": [
  {
   "cell_type": "markdown",
   "metadata": {},
   "source": [
    "# Depth First Search\n",
    "\n",
    "DFS is an algorithm that traverses through a graph. It has many applications and can be adapted to suit a variety of path-finding algorithms. It has both a recursive and an iterative solution. The idea behind DFS is to explore along the longest path as possible until it's no longer possible and then back-tracking until a new path can be explored. "
   ]
  },
  {
   "cell_type": "code",
   "execution_count": 1,
   "metadata": {},
   "outputs": [],
   "source": [
    "import networkx as np\n",
    "import matplotlib.pyplot as plt\n",
    "from helper import draw_graph, clear_marks"
   ]
  },
  {
   "cell_type": "markdown",
   "metadata": {},
   "source": [
    "# Recursive solution\n",
    "\n",
    "Between the recursive and iterative solutions, the recursive one is much more natural. Here's the pseudo-code.\n",
    "\n",
    "```python\n",
    "function DFS(Graph, node):\n",
    "    mark node\n",
    "    for neighbor in node.neighbors:\n",
    "        mark edge(node, neighbor)\n",
    "        DFS(Graph, neighbor)\n",
    "```\n",
    "\n",
    "We start at a random node and just start tracing a path. When we can't continue to a new unvisited nodewe backtrack along our path until we can branch off to a new path. This process repeats recursively."
   ]
  },
  {
   "cell_type": "code",
   "execution_count": 2,
   "metadata": {},
   "outputs": [
    {
     "ename": "NameError",
     "evalue": "name 'nx' is not defined",
     "output_type": "error",
     "traceback": [
      "\u001b[0;31m---------------------------------------------------------------------------\u001b[0m",
      "\u001b[0;31mNameError\u001b[0m                                 Traceback (most recent call last)",
      "\u001b[0;32m<ipython-input-2-7460663fa84e>\u001b[0m in \u001b[0;36m<module>\u001b[0;34m\u001b[0m\n\u001b[0;32m----> 1\u001b[0;31m \u001b[0mG\u001b[0m \u001b[0;34m=\u001b[0m \u001b[0mnx\u001b[0m\u001b[0;34m.\u001b[0m\u001b[0merdos_renyi_graph\u001b[0m\u001b[0;34m(\u001b[0m\u001b[0;36m10\u001b[0m\u001b[0;34m,\u001b[0m \u001b[0;36m0.3\u001b[0m\u001b[0;34m)\u001b[0m\u001b[0;34m\u001b[0m\u001b[0;34m\u001b[0m\u001b[0m\n\u001b[0m\u001b[1;32m      2\u001b[0m \u001b[0mdraw_graph\u001b[0m\u001b[0;34m(\u001b[0m\u001b[0mG\u001b[0m\u001b[0;34m)\u001b[0m\u001b[0;34m\u001b[0m\u001b[0;34m\u001b[0m\u001b[0m\n",
      "\u001b[0;31mNameError\u001b[0m: name 'nx' is not defined"
     ]
    }
   ],
   "source": [
    "G = nx.erdos_renyi_graph(10, 0.3)\n",
    "draw_graph(G)"
   ]
  },
  {
   "cell_type": "code",
   "execution_count": null,
   "metadata": {},
   "outputs": [],
   "source": [
    "def dfs_recursive(G, node):\n",
    "    G.nodes[node]['marked'] = True\n",
    "    \n",
    "    for neighbor in G.adj[node]:\n",
    "        if not G.nodes[neighbor].get('marked'):\n",
    "            print(f'marking edge: ({node}, {neighbor})')\n",
    "            G.edges[node, neighbor]['marked'] = True\n",
    "            \n",
    "            dfs_recursive(G, neighbor)"
   ]
  },
  {
   "cell_type": "code",
   "execution_count": null,
   "metadata": {},
   "outputs": [],
   "source": [
    "clear_marks(G)\n",
    "dfs_recursive(G, 0)"
   ]
  },
  {
   "cell_type": "code",
   "execution_count": null,
   "metadata": {},
   "outputs": [],
   "source": [
    "draw_graph(G)"
   ]
  },
  {
   "cell_type": "markdown",
   "metadata": {},
   "source": [
    "We see that when the original graph is connected, the algorithm outputs a spanning tree.\n",
    "\n",
    "Lastly we'll compare between the original graph and the spanning tree."
   ]
  },
  {
   "cell_type": "code",
   "execution_count": null,
   "metadata": {},
   "outputs": [],
   "source": [
    "fig, axes = plt.subplots(ncols=3, figsize=(11,5.625))\n",
    "\n",
    "axes[0].set_title('Initial Graph')\n",
    "draw_graph(G, with_tree=False, ax=axes[0])\n",
    "\n",
    "axes[1].set_title('Initial Graph after DFS traversal')\n",
    "draw_graph(G, ax=axes[1])\n",
    "\n",
    "G_copy = G.copy()\n",
    "for edge in G_copy.edges:\n",
    "    if not G_copy.edges[edge].get('marked'):\n",
    "        G_copy.remove_edge(*edge)\n",
    "axes[2].set_title('Resulting Spanning Tree')\n",
    "draw_graph(G_copy, ax=axes[2])"
   ]
  },
  {
   "cell_type": "markdown",
   "metadata": {},
   "source": [
    "# Iterative solution\n",
    "\n",
    "The iterative solution is slightly more complicated but only because we need to keep track of the edges we visited using a stack.\n",
    "\n",
    "```python\n",
    "function DFS(Graph, node):\n",
    "    init stack\n",
    "    stack.push(node)\n",
    "    while stack isnt empty:\n",
    "        node = stack.pop()\n",
    "        if node wasnt previously visited:\n",
    "            mark(node) as visited\n",
    "            mark the edge to node as visted\n",
    "        \n",
    "        for neighbor in node.adj:\n",
    "            if the neighbor wasnt visited:\n",
    "                mark(neighbor) as visited\n",
    "                stack.push(neighbor)\n",
    "```\n",
    "\n",
    "In th implementation our stack keeps track of the edges for the output as a tree."
   ]
  },
  {
   "cell_type": "code",
   "execution_count": null,
   "metadata": {},
   "outputs": [],
   "source": [
    "def dfs_iterative(graph, node):\n",
    "    stack = [(None, node)]\n",
    "    while stack:        \n",
    "        prev_node, node = stack.pop()\n",
    "        \n",
    "        if not graph.nodes[node].get('marked'):\n",
    "            graph.nodes[node]['marked'] = True\n",
    "            if prev_node is not None:\n",
    "                print(f'marking edge: ({prev_node}, {node})')\n",
    "                graph.edges[prev_node, node]['marked'] = True\n",
    "                \n",
    "            prev_node = node\n",
    "            for neighbor in graph.adj[node]:\n",
    "                if not graph.nodes[neighbor].get('marked'):\n",
    "                    stack.append((prev_node, neighbor))\n",
    "            "
   ]
  },
  {
   "cell_type": "code",
   "execution_count": null,
   "metadata": {},
   "outputs": [],
   "source": [
    "# We unmark all the nodes so we can \n",
    "# run the iterative algorithm.\n",
    "clear_marks(G)\n",
    "draw_graph(G)"
   ]
  },
  {
   "cell_type": "code",
   "execution_count": null,
   "metadata": {},
   "outputs": [],
   "source": [
    "dfs_iterative(G, 0)"
   ]
  },
  {
   "cell_type": "code",
   "execution_count": null,
   "metadata": {},
   "outputs": [],
   "source": [
    "draw_graph(G)"
   ]
  },
  {
   "cell_type": "markdown",
   "metadata": {},
   "source": [
    "Again we'll compare between the original graph and the spanning tree."
   ]
  },
  {
   "cell_type": "code",
   "execution_count": null,
   "metadata": {},
   "outputs": [],
   "source": [
    "fig, axes = plt.subplots(ncols=3, figsize=(12,5))\n",
    "\n",
    "axes[0].set_title('Initial Graph')\n",
    "draw_graph(G, with_tree=False, ax=axes[0])\n",
    "\n",
    "axes[1].set_title('Initial Graph after DFS traversal')\n",
    "draw_graph(G, ax=axes[1])\n",
    "\n",
    "G_copy = G.copy()\n",
    "for edge in G_copy.edges:\n",
    "    if not G_copy.edges[edge].get('marked'):\n",
    "        G_copy.remove_edge(*edge)\n",
    "axes[2].set_title('Resulting Spanning Tree')\n",
    "draw_graph(G_copy, ax=axes[2])"
   ]
  },
  {
   "cell_type": "code",
   "execution_count": null,
   "metadata": {},
   "outputs": [],
   "source": []
  }
 ],
 "metadata": {
  "kernelspec": {
   "display_name": "Graph-Algos",
   "language": "python",
   "name": "graph-algos"
  },
  "language_info": {
   "codemirror_mode": {
    "name": "ipython",
    "version": 3
   },
   "file_extension": ".py",
   "mimetype": "text/x-python",
   "name": "python",
   "nbconvert_exporter": "python",
   "pygments_lexer": "ipython3",
   "version": "3.7.9"
  }
 },
 "nbformat": 4,
 "nbformat_minor": 4
}
