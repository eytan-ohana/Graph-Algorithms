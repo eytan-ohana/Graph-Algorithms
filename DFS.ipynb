{
 "cells": [
  {
   "cell_type": "code",
   "execution_count": 69,
   "metadata": {},
   "outputs": [],
   "source": [
    "import networkx as nx\n",
    "import matplotlib.pyplot as plt\n",
    "from collections import deque\n",
    "from helper import draw_graph, clear_marks"
   ]
  },
  {
   "cell_type": "code",
   "execution_count": 70,
   "metadata": {},
   "outputs": [
    {
     "data": {
      "image/png": "[encoded data removed]",
      "text/plain": [
       "<Figure size 432x288 with 1 Axes>"
      ]
     },
     "metadata": {},
     "output_type": "display_data"
    }
   ],
   "source": [
    "G = nx.gnm_random_graph(10, 20)\n",
    "G = nx.erdos_renyi_graph(10, 0.3)\n",
    "draw_graph(G)"
   ]
  },
  {
   "cell_type": "code",
   "execution_count": 84,
   "metadata": {},
   "outputs": [],
   "source": [
    "def dfs_recursive(G, node):\n",
    "    G.nodes[node]['marked'] = True\n",
    "    for neighbor in G.adj[node]:\n",
    "        if not G.nodes[neighbor].get('marked'):\n",
    "            print(f'marking edge: ({node}, {neighbor})')\n",
    "            G.edges[node, neighbor]['marked'] = True\n",
    "            dfs(G, neighbor)\n",
    "\n",
    "def dfs_iterative(graph, node):\n",
    "    stack = deque()\n",
    "    stack.append(node)\n",
    "    while stack:\n",
    "        print(stack)\n",
    "        node = stack.pop()\n",
    "        \n",
    "        \n",
    "        if not graph.nodes[node]['marked']:\n",
    "            graph.nodes[node]['marked'] = True\n",
    "            \n",
    "        for neighbor in graph.adj[node]:\n",
    "            print(neighbor, graph.nodes[neighbor].get('marked'))\n",
    "            if not graph.nodes[neighbor]['marked']:\n",
    "                #graph.edges[node, neighbor]['marked'] = True\n",
    "                #print(f'marking edge: ({node}, {neighbor})')\n",
    "                graph.nodes[nieg]['marked'] = True\n",
    "                stack.append(neighbor)"
   ]
  },
  {
   "cell_type": "code",
   "execution_count": 85,
   "metadata": {},
   "outputs": [
    {
     "name": "stdout",
     "output_type": "stream",
     "text": [
      "deque([0])\n",
      "3 False\n",
      "5 False\n",
      "8 False\n",
      "deque([3, 5, 8])\n",
      "0 True\n",
      "deque([3, 5])\n",
      "0 True\n",
      "1 False\n",
      "3 False\n",
      "deque([3, 1, 3])\n",
      "0 True\n",
      "4 False\n",
      "5 True\n",
      "9 False\n",
      "deque([3, 1, 4, 9])\n",
      "3 True\n",
      "deque([3, 1, 4])\n",
      "2 False\n",
      "3 True\n",
      "6 False\n",
      "deque([3, 1, 2, 6])\n",
      "1 False\n",
      "4 True\n",
      "deque([3, 1, 2, 1])\n",
      "5 True\n",
      "6 True\n",
      "deque([3, 1, 2])\n",
      "4 True\n",
      "deque([3, 1])\n",
      "5 True\n",
      "6 True\n",
      "deque([3])\n",
      "0 True\n",
      "4 True\n",
      "5 True\n",
      "9 True\n"
     ]
    }
   ],
   "source": [
    "clear_marks(G)\n",
    "dfs_iterative(G, 0)\n"
   ]
  },
  {
   "cell_type": "code",
   "execution_count": 79,
   "metadata": {},
   "outputs": [
    {
     "data": {
      "image/png": "[encoded data removed]",
      "text/plain": [
       "<Figure size 432x288 with 1 Axes>"
      ]
     },
     "metadata": {},
     "output_type": "display_data"
    }
   ],
   "source": [
    "\n",
    "draw_graph(G)"
   ]
  },
  {
   "cell_type": "code",
   "execution_count": null,
   "metadata": {},
   "outputs": [],
   "source": []
  }
 ],
 "metadata": {
  "kernelspec": {
   "display_name": "Graph-Algos",
   "language": "python",
   "name": "graph-algos"
  },
  "language_info": {
   "codemirror_mode": {
    "name": "ipython",
    "version": 3
   },
   "file_extension": ".py",
   "mimetype": "text/x-python",
   "name": "python",
   "nbconvert_exporter": "python",
   "pygments_lexer": "ipython3",
   "version": "3.8.5"
  }
 },
 "nbformat": 4,
 "nbformat_minor": 4
}
