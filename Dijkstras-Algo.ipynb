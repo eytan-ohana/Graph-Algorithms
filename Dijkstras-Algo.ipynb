{
 "cells": [
  {
   "cell_type": "markdown",
   "metadata": {},
   "source": [
    "# Dijkstra's Algorithm"
   ]
  },
  {
   "cell_type": "markdown",
   "metadata": {},
   "source": [
    "Dijkstra's Algorithm is a useful graph traversal algorithm developed by famed computer scientist Edsgar W. Dijkstra. In short, Dijkstra's algorithm is an algorithm that is used to find the shortest paths from the source vertex to different vertices in the graph."
   ]
  },
  {
   "cell_type": "markdown",
   "metadata": {},
   "source": [
    "## Using an adjacency list"
   ]
  },
  {
   "cell_type": "code",
   "execution_count": null,
   "metadata": {},
   "outputs": [],
   "source": [
    "def dijkstra_list(G, source):\n",
    "    pass"
   ]
  },
  {
   "cell_type": "markdown",
   "metadata": {},
   "source": [
    "## Using an adjacency matrix\n",
    "\n",
    "Here is the pseudocode for Dijkstra's Algorithm.\n",
    "\n",
    "```\n",
    "function Dijkstra(Adjacency Matrix, source):\n",
    "    distance at source vertex = 0\n",
    "    \n",
    "    for range of amount of vertices:\n",
    "        for range of amount of vertices:\n",
    "            if vertex was not visited and distance is less than infinity:\n",
    "                save distance of specific vertex as minimum\n",
    "                save the vertex           \n",
    "        vertex saved is marked as visited\n",
    "            \n",
    "        for range of amount of vertices:\n",
    "            if distance from saved vertex to current vertex is greater than zero and \n",
    "            vertex was not visited and \n",
    "            distance of current vertex > distance of minimum vertex + distance from saved vertex to current vertex:\n",
    "                distance of current vertex = distance of minimum vertex + distance from saved vertex to current vertex\n",
    "\n",
    "```"
   ]
  },
  {
   "cell_type": "markdown",
   "metadata": {},
   "source": [
    "## Code for Dijkstra's Algorithm"
   ]
  },
  {
   "cell_type": "markdown",
   "metadata": {},
   "source": [
    "The purpose of Dijkstra's Algorithm is to find the shortest path to each vertex in a graph from a start vertex. To determine what would classify as the shortest path from a source vertex to any other vertex, each edge is given a weight value. Using this, Dijkstra's Algorithm finds all the different paths from source vertex to a certain vertex on the graph and compares the added up weight values from the edges along the path. The path with the smallest value from the added weights is considered the shortest path. This is done to every other vertex as well, giving a shortest path from a source vertex to every other vertex in a graph."
   ]
  },
  {
   "cell_type": "code",
   "execution_count": 10,
   "metadata": {},
   "outputs": [],
   "source": [
    "import networkx as nx\n",
    "import matplotlib.pyplot as plt\n",
    "from helper import draw_graph, clear_marks\n",
    "import numpy as np"
   ]
  },
  {
   "cell_type": "markdown",
   "metadata": {},
   "source": [
    "In our implementation of Dijkstra, we pass in an adjacency matrix as parameter. An adjacency matrix is used to store the weights of an edge between two vertices. Each element within the matrix tells us whether 2 vertices are adjacent and the value given as the element is the weight. If 2 vertices are NOT adjacent then the value stored as the element is 0. We also pass in the source vertex."
   ]
  },
  {
   "cell_type": "code",
   "execution_count": 15,
   "metadata": {},
   "outputs": [],
   "source": [
    "def dijkstra(A, source): \n",
    "        distance = [np.inf] * len(A) \n",
    "        distance[source] = 0\n",
    "        short_path = [False] * len(A)\n",
    "   \n",
    "        for i in range(len(A)): \n",
    "        \n",
    "            min = np.inf \n",
    "   \n",
    "            for j in range(len(A)): \n",
    "                if distance[j] < min and short_path[j] == False: \n",
    "                    min = distance[j] \n",
    "                    min_index = j\n",
    "            j = min_index\n",
    "            short_path[j] = True\n",
    "   \n",
    "            for k in range(len(A)): \n",
    "                if (A[j][k] > 0) and (short_path[k] == False) and (distance[k] > distance[j] + A[j][k]): \n",
    "                    distance[k] = distance[j] + A[j][k]\n",
    "                    \n",
    "        print (\"Graph Vertex \\t Distance from Source\") \n",
    "        print(\"-------------------------------------\")\n",
    "        for node in range(len(A)): \n",
    "            print (node, \"\\t\\t\", distance[node]) \n",
    "   "
   ]
  },
  {
   "cell_type": "markdown",
   "metadata": {},
   "source": [
    "## Undirected Graph\n",
    "\n",
    "Dijkstra's algorithm in the most simplest form can be used to find the shortest path within an undirected graph. In this undirected graph, weights have not been specified. Since that is the case, if two vertices have an edge between them then the weight value will automatically be initalized to 1.0.  "
   ]
  },
  {
   "cell_type": "code",
   "execution_count": 16,
   "metadata": {},
   "outputs": [
    {
     "data": {
      "image/png": "[encoded data removed]",
      "text/plain": [
       "<Figure size 432x288 with 1 Axes>"
      ]
     },
     "metadata": {},
     "output_type": "display_data"
    }
   ],
   "source": [
    "G = nx.Graph()\n",
    "G.add_edge(0, 1)\n",
    "G.add_edge(1, 2)\n",
    "G.add_edge(3, 4)\n",
    "G.add_edge(1, 5)\n",
    "G.add_edge(3, 6)\n",
    "G.add_edge(4, 6)\n",
    "G.add_edge(5, 6)\n",
    "draw_graph(G)\n",
    "\n"
   ]
  },
  {
   "cell_type": "markdown",
   "metadata": {},
   "source": [
    "Below is the adjacency matrix for the graph. As one can see, this matrix is symmetrical along the diagonal. This is because the graph is undirected and if vertex A has a path to vertex B then therefore vertex B has a path to vertex A as well."
   ]
  },
  {
   "cell_type": "code",
   "execution_count": 30,
   "metadata": {},
   "outputs": [
    {
     "name": "stdout",
     "output_type": "stream",
     "text": [
      "7\n"
     ]
    }
   ],
   "source": [
    "A = nx.to_numpy_array(G)\n",
    "print(A)"
   ]
  },
  {
   "cell_type": "markdown",
   "metadata": {},
   "source": [
    "### Results\n",
    "\n",
    "Here, we pass in the graph we created along with the adjacency matrix of it. We also pass in our source vertex which in this case will be the 0 vertex."
   ]
  },
  {
   "cell_type": "code",
   "execution_count": 18,
   "metadata": {},
   "outputs": [
    {
     "name": "stdout",
     "output_type": "stream",
     "text": [
      "Graph Vertex \t Distance from Source\n",
      "-------------------------------------\n",
      "0 \t\t 0\n",
      "1 \t\t 1.0\n",
      "2 \t\t 2.0\n",
      "3 \t\t 4.0\n",
      "4 \t\t 4.0\n",
      "5 \t\t 2.0\n",
      "6 \t\t 3.0\n"
     ]
    }
   ],
   "source": [
    "dijkstra(A, 0)"
   ]
  },
  {
   "cell_type": "markdown",
   "metadata": {},
   "source": [
    "## Directed Graph\n",
    "\n",
    "Here is Dijkstra's Algorithm implemented on a directed graph with uninitialized weights. Since direction is important here, if the source vertex cannot reach a certain vertex within the graph, *inf* (i.e. infinity) will be printed as the shortest path."
   ]
  },
  {
   "cell_type": "code",
   "execution_count": 19,
   "metadata": {},
   "outputs": [
    {
     "data": {
      "image/png": "[encoded data removed]",
      "text/plain": [
       "<Figure size 432x288 with 1 Axes>"
      ]
     },
     "metadata": {},
     "output_type": "display_data"
    }
   ],
   "source": [
    "G = nx.DiGraph()\n",
    "G.add_edge(0, 1)\n",
    "G.add_edge(1, 2)\n",
    "G.add_edge(3, 4)\n",
    "G.add_edge(1, 5)\n",
    "G.add_edge(3, 6)\n",
    "G.add_edge(4, 6)\n",
    "G.add_edge(5, 6)\n",
    "draw_graph(G)"
   ]
  },
  {
   "cell_type": "markdown",
   "metadata": {},
   "source": [
    "Here is the adjacency matrix. This is NOT symmetrical because the graph is directed."
   ]
  },
  {
   "cell_type": "code",
   "execution_count": 20,
   "metadata": {},
   "outputs": [
    {
     "name": "stdout",
     "output_type": "stream",
     "text": [
      "[[0. 1. 0. 0. 0. 0. 0.]\n",
      " [0. 0. 1. 0. 0. 1. 0.]\n",
      " [0. 0. 0. 0. 0. 0. 0.]\n",
      " [0. 0. 0. 0. 1. 0. 1.]\n",
      " [0. 0. 0. 0. 0. 0. 1.]\n",
      " [0. 0. 0. 0. 0. 0. 1.]\n",
      " [0. 0. 0. 0. 0. 0. 0.]]\n"
     ]
    }
   ],
   "source": [
    "A = nx.to_numpy_array(G)\n",
    "print(A)"
   ]
  },
  {
   "cell_type": "markdown",
   "metadata": {},
   "source": [
    "### Results"
   ]
  },
  {
   "cell_type": "code",
   "execution_count": 21,
   "metadata": {},
   "outputs": [
    {
     "name": "stdout",
     "output_type": "stream",
     "text": [
      "Graph Vertex \t Distance from Source\n",
      "-------------------------------------\n",
      "0 \t\t 0\n",
      "1 \t\t 1.0\n",
      "2 \t\t 2.0\n",
      "3 \t\t inf\n",
      "4 \t\t inf\n",
      "5 \t\t 2.0\n",
      "6 \t\t 3.0\n"
     ]
    }
   ],
   "source": [
    "dijkstra(A, 0)"
   ]
  },
  {
   "cell_type": "markdown",
   "metadata": {},
   "source": [
    "## Undirected Graph with Initialized Weights\n",
    "\n",
    "In this undirected graph, weights have been initialized for each path. "
   ]
  },
  {
   "cell_type": "code",
   "execution_count": 22,
   "metadata": {},
   "outputs": [
    {
     "data": {
      "image/png": "[encoded data removed]",
      "text/plain": [
       "<Figure size 432x288 with 1 Axes>"
      ]
     },
     "metadata": {},
     "output_type": "display_data"
    }
   ],
   "source": [
    "G = nx.Graph()\n",
    "G.add_edge(0, 1,weight=2.0)\n",
    "G.add_edge(1, 2,weight=1.0)\n",
    "G.add_edge(3, 4,weight=4.0)\n",
    "G.add_edge(1, 5,weight=6.0)\n",
    "G.add_edge(3, 6,weight=7.0)\n",
    "G.add_edge(4, 6,weight=2.0)\n",
    "G.add_edge(5, 6,weight=2.0)\n",
    "draw_graph(G)"
   ]
  },
  {
   "cell_type": "markdown",
   "metadata": {},
   "source": [
    "These are the weights of the edges between two vertices."
   ]
  },
  {
   "cell_type": "code",
   "execution_count": 23,
   "metadata": {},
   "outputs": [
    {
     "name": "stdout",
     "output_type": "stream",
     "text": [
      "(0, 1, {'weight': 2.0})\n",
      "(1, 2, {'weight': 1.0})\n",
      "(1, 5, {'weight': 6.0})\n",
      "(3, 4, {'weight': 4.0})\n",
      "(3, 6, {'weight': 7.0})\n",
      "(4, 6, {'weight': 2.0})\n",
      "(5, 6, {'weight': 2.0})\n"
     ]
    }
   ],
   "source": [
    "for i in list(G.edges(data=True)):\n",
    "    print(i)"
   ]
  },
  {
   "cell_type": "markdown",
   "metadata": {},
   "source": [
    "Here is our matrix. As stated above, this is a symmetrical matrix along the diagonal because the graph is undirected."
   ]
  },
  {
   "cell_type": "code",
   "execution_count": 24,
   "metadata": {},
   "outputs": [
    {
     "name": "stdout",
     "output_type": "stream",
     "text": [
      "[[0. 2. 0. 0. 0. 0. 0.]\n",
      " [2. 0. 1. 0. 0. 6. 0.]\n",
      " [0. 1. 0. 0. 0. 0. 0.]\n",
      " [0. 0. 0. 0. 4. 0. 7.]\n",
      " [0. 0. 0. 4. 0. 0. 2.]\n",
      " [0. 6. 0. 0. 0. 0. 2.]\n",
      " [0. 0. 0. 7. 2. 2. 0.]]\n"
     ]
    }
   ],
   "source": [
    "A = nx.to_numpy_array(G)\n",
    "print(A)"
   ]
  },
  {
   "cell_type": "markdown",
   "metadata": {},
   "source": [
    "### Results"
   ]
  },
  {
   "cell_type": "code",
   "execution_count": 25,
   "metadata": {},
   "outputs": [
    {
     "name": "stdout",
     "output_type": "stream",
     "text": [
      "Graph Vertex \t Distance from Source\n",
      "-------------------------------------\n",
      "0 \t\t 0\n",
      "1 \t\t 2.0\n",
      "2 \t\t 3.0\n",
      "3 \t\t 16.0\n",
      "4 \t\t 12.0\n",
      "5 \t\t 8.0\n",
      "6 \t\t 10.0\n"
     ]
    }
   ],
   "source": [
    "dijkstra(A, 0)"
   ]
  },
  {
   "cell_type": "markdown",
   "metadata": {},
   "source": [
    "## Directed Graph with Initialized Weights\n",
    "\n",
    "In this directed graph, weights have been initialized for each path. "
   ]
  },
  {
   "cell_type": "code",
   "execution_count": 26,
   "metadata": {},
   "outputs": [
    {
     "data": {
      "image/png": "[encoded data removed]",
      "text/plain": [
       "<Figure size 432x288 with 1 Axes>"
      ]
     },
     "metadata": {},
     "output_type": "display_data"
    }
   ],
   "source": [
    "G = nx.DiGraph()\n",
    "G.add_edge(0, 1,weight=3.0)\n",
    "G.add_edge(1, 2,weight=1.0)\n",
    "G.add_edge(3, 4,weight=4.0)\n",
    "G.add_edge(1, 5,weight=2.0)\n",
    "G.add_edge(3, 6,weight=8.0)\n",
    "G.add_edge(4, 6,weight=3.0)\n",
    "G.add_edge(5, 6,weight=2.0)\n",
    "draw_graph(G)\n"
   ]
  },
  {
   "cell_type": "markdown",
   "metadata": {},
   "source": [
    "Here are the weights for the edges in the directed graph. "
   ]
  },
  {
   "cell_type": "code",
   "execution_count": 27,
   "metadata": {},
   "outputs": [
    {
     "name": "stdout",
     "output_type": "stream",
     "text": [
      "(0, 1, {'weight': 3.0})\n",
      "(1, 2, {'weight': 1.0})\n",
      "(1, 5, {'weight': 2.0})\n",
      "(3, 4, {'weight': 4.0})\n",
      "(3, 6, {'weight': 8.0})\n",
      "(4, 6, {'weight': 3.0})\n",
      "(5, 6, {'weight': 2.0})\n"
     ]
    }
   ],
   "source": [
    "for i in list(G.edges(data=True)):\n",
    "    print(i)"
   ]
  },
  {
   "cell_type": "code",
   "execution_count": 28,
   "metadata": {},
   "outputs": [
    {
     "name": "stdout",
     "output_type": "stream",
     "text": [
      "[[0. 3. 0. 0. 0. 0. 0.]\n",
      " [0. 0. 1. 0. 0. 2. 0.]\n",
      " [0. 0. 0. 0. 0. 0. 0.]\n",
      " [0. 0. 0. 0. 4. 0. 8.]\n",
      " [0. 0. 0. 0. 0. 0. 3.]\n",
      " [0. 0. 0. 0. 0. 0. 2.]\n",
      " [0. 0. 0. 0. 0. 0. 0.]]\n"
     ]
    }
   ],
   "source": [
    "A = nx.to_numpy_array(G)\n",
    "print(A)"
   ]
  },
  {
   "cell_type": "markdown",
   "metadata": {},
   "source": [
    "### Results"
   ]
  },
  {
   "cell_type": "code",
   "execution_count": null,
   "metadata": {},
   "outputs": [],
   "source": [
    "dijkstra(A, 0)"
   ]
  },
  {
   "cell_type": "code",
   "execution_count": null,
   "metadata": {},
   "outputs": [],
   "source": []
  }
 ],
 "metadata": {
  "kernelspec": {
   "display_name": "Graph-Algos",
   "language": "python",
   "name": "graph-algos"
  },
  "language_info": {
   "codemirror_mode": {
    "name": "ipython",
    "version": 3
   },
   "file_extension": ".py",
   "mimetype": "text/x-python",
   "name": "python",
   "nbconvert_exporter": "python",
   "pygments_lexer": "ipython3",
   "version": "3.7.9"
  }
 },
 "nbformat": 4,
 "nbformat_minor": 4
}
