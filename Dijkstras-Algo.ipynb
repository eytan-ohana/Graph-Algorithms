{
 "cells": [
  {
   "cell_type": "markdown",
   "metadata": {},
   "source": [
    "# Dijkstra's Algorithm"
   ]
  },
  {
   "cell_type": "markdown",
   "metadata": {},
   "source": [
    "Dijkstra's Algorithm is a useful graph traversal algorithm developed by famed computer scientist Edsgar W. Dijkstra. In short, Dijkstra's algorithm is an algorithm that is used to find the shortest paths from the source vertex to different vertices in the graph."
   ]
  },
  {
   "cell_type": "code",
   "execution_count": 24,
   "metadata": {},
   "outputs": [],
   "source": [
    "import networkx as nx\n",
    "import matplotlib.pyplot as plt\n",
    "from helper import draw_graph, clear_marks\n",
    "import numpy as np"
   ]
  },
  {
   "cell_type": "markdown",
   "metadata": {},
   "source": [
    "## Undirected Graph\n"
   ]
  },
  {
   "cell_type": "code",
   "execution_count": 5,
   "metadata": {},
   "outputs": [
    {
     "data": {
      "image/png": "[encoded data removed]",
      "text/plain": [
       "<Figure size 432x288 with 1 Axes>"
      ]
     },
     "metadata": {},
     "output_type": "display_data"
    }
   ],
   "source": [
    "G = nx.Graph()\n",
    "G.add_edge(0, 1)\n",
    "G.add_edge(1, 2)\n",
    "G.add_edge(3, 4)\n",
    "G.add_edge(1, 5)\n",
    "G.add_edge(3, 6)\n",
    "G.add_edge(4, 6)\n",
    "G.add_edge(5, 6)\n",
    "draw_graph(G)\n",
    "\n"
   ]
  },
  {
   "cell_type": "markdown",
   "metadata": {},
   "source": [
    "```\n",
    "function Dijkstra(Graph, source):\n",
    "    distance at source vertex = 0\n",
    "    \n",
    "    for range of amount of vertices:\n",
    "        for range of amount of vertices:\n",
    "            if vertex was not visited and distance is less than infinity:\n",
    "                save distance of specific vertex as minimun\n",
    "                save the vertex           \n",
    "        vertex saved is marked as visited\n",
    "            \n",
    "        for range of amount of vertices:\n",
    "            if distance from saved vertex to current vertex is greater than zero and \n",
    "            vertex was not visited and \n",
    "            distance of current vertex > distance of minimin vertex saved above + distance from saved vertex to current vertex:\n",
    "                distance of current vertex = distance of minimin vertex saved above + distance from saved vertex to current vertex\n",
    "```\n",
    "                \n",
    "               \n",
    "                    "
   ]
  },
  {
   "cell_type": "code",
   "execution_count": 25,
   "metadata": {},
   "outputs": [],
   "source": [
    "def dijkstra(G, source): \n",
    "        distance = [np.inf] * len(G.nodes) \n",
    "        distance[source] = 0\n",
    "        short_path = [False] * len(G.nodes) \n",
    "   \n",
    "        for i in range(len(G.nodes)): \n",
    "        \n",
    "            min = np.inf \n",
    "   \n",
    "            for j in range(len(G.nodes)): \n",
    "                if distance[j] < min and short_path[j] == False: \n",
    "                    min = distance[j] \n",
    "                    min_index = j\n",
    "            j = min_index\n",
    "            short_path[j] = True\n",
    "   \n",
    "            for k in range(len(G.nodes)): \n",
    "                if (A[j][k] > 0) and (short_path[k] == False) and (distance[k] > distance[j] + A[j][k]): \n",
    "                    distance[k] = distance[j] + A[j][k]\n",
    "                    \n",
    "        print (\"Graph Vertex \\t Distance from Source\") \n",
    "        print(\"-------------------------------------\")\n",
    "        for node in range(len(G.nodes)): \n",
    "            print (node, \"\\t\\t\", distance[node]) \n",
    "   "
   ]
  },
  {
   "cell_type": "code",
   "execution_count": 26,
   "metadata": {},
   "outputs": [
    {
     "name": "stdout",
     "output_type": "stream",
     "text": [
      "[[0. 1. 0. 0. 0. 0. 0.]\n",
      " [0. 0. 1. 0. 0. 1. 0.]\n",
      " [0. 0. 0. 0. 0. 0. 0.]\n",
      " [0. 0. 0. 0. 1. 0. 1.]\n",
      " [0. 0. 0. 0. 0. 0. 1.]\n",
      " [0. 0. 0. 0. 0. 0. 1.]\n",
      " [0. 0. 0. 0. 0. 0. 0.]]\n"
     ]
    }
   ],
   "source": [
    "A = nx.to_numpy_array(G)\n",
    "print(A)"
   ]
  },
  {
   "cell_type": "code",
   "execution_count": 28,
   "metadata": {},
   "outputs": [
    {
     "name": "stdout",
     "output_type": "stream",
     "text": [
      "Graph Vertex \t Distance from Source\n",
      "-------------------------------------\n",
      "0 \t\t 0\n",
      "1 \t\t 1.0\n",
      "2 \t\t 2.0\n",
      "3 \t\t inf\n",
      "4 \t\t inf\n",
      "5 \t\t 2.0\n",
      "6 \t\t 3.0\n"
     ]
    }
   ],
   "source": [
    "dijkstra(G,0)"
   ]
  },
  {
   "cell_type": "code",
   "execution_count": 20,
   "metadata": {},
   "outputs": [
    {
     "data": {
      "image/png": "[encoded data removed]",
      "text/plain": [
       "<Figure size 432x288 with 1 Axes>"
      ]
     },
     "metadata": {},
     "output_type": "display_data"
    }
   ],
   "source": [
    "G = nx.DiGraph()\n",
    "G.add_edge(0, 1)\n",
    "G.add_edge(1, 2)\n",
    "G.add_edge(3, 4)\n",
    "G.add_edge(1, 5)\n",
    "G.add_edge(3, 6)\n",
    "G.add_edge(4, 6)\n",
    "G.add_edge(5, 6)\n",
    "draw_graph(G)"
   ]
  },
  {
   "cell_type": "code",
   "execution_count": 21,
   "metadata": {},
   "outputs": [
    {
     "name": "stdout",
     "output_type": "stream",
     "text": [
      "[[0. 1. 0. 0. 0. 0. 0.]\n",
      " [0. 0. 1. 0. 0. 1. 0.]\n",
      " [0. 0. 0. 0. 0. 0. 0.]\n",
      " [0. 0. 0. 0. 1. 0. 1.]\n",
      " [0. 0. 0. 0. 0. 0. 1.]\n",
      " [0. 0. 0. 0. 0. 0. 1.]\n",
      " [0. 0. 0. 0. 0. 0. 0.]]\n"
     ]
    }
   ],
   "source": [
    "A = nx.to_numpy_array(G)\n",
    "print(A)"
   ]
  },
  {
   "cell_type": "code",
   "execution_count": 22,
   "metadata": {},
   "outputs": [
    {
     "name": "stdout",
     "output_type": "stream",
     "text": [
      "Graph Vertex \t Distance from Source\n",
      "-------------------------------------\n",
      "0 \t\t 0\n",
      "1 \t\t 1.0\n",
      "2 \t\t 2.0\n",
      "3 \t\t inf\n",
      "4 \t\t inf\n",
      "5 \t\t 2.0\n",
      "6 \t\t 3.0\n"
     ]
    }
   ],
   "source": [
    "dijkstra(G, 0)"
   ]
  },
  {
   "cell_type": "code",
   "execution_count": null,
   "metadata": {},
   "outputs": [],
   "source": [
    "G = nx.Graph()\n",
    "G.add_edge(0, 1,weight=2.0)\n",
    "G.add_edge(1, 2,weight=1.0)\n",
    "G.add_edge(3, 4,weight=4.0)\n",
    "G.add_edge(1, 5,weight=6.0)\n",
    "G.add_edge(3, 6,weight=7.0)\n",
    "G.add_edge(4, 6,weight=2.0)\n",
    "G.add_edge(5, 6,weight=2.0)\n",
    "draw_graph(G)"
   ]
  },
  {
   "cell_type": "code",
   "execution_count": null,
   "metadata": {},
   "outputs": [],
   "source": [
    "A = nx.to_numpy_array(G)\n",
    "print(A)"
   ]
  },
  {
   "cell_type": "code",
   "execution_count": null,
   "metadata": {},
   "outputs": [],
   "source": [
    "dijkstra(G, 0)"
   ]
  },
  {
   "cell_type": "code",
   "execution_count": null,
   "metadata": {},
   "outputs": [],
   "source": [
    "G = nx.DiGraph()\n",
    "G.add_edge(0, 1,weight=2.0)\n",
    "G.add_edge(1, 2,weight=1.0)\n",
    "G.add_edge(3, 4,weight=4.0)\n",
    "G.add_edge(1, 5,weight=6.0)\n",
    "G.add_edge(3, 6,weight=7.0)\n",
    "G.add_edge(4, 6,weight=2.0)\n",
    "G.add_edge(5, 6,weight=2.0)\n",
    "draw_graph(G)\n"
   ]
  },
  {
   "cell_type": "code",
   "execution_count": null,
   "metadata": {},
   "outputs": [],
   "source": [
    "A = nx.to_numpy_array(G)\n",
    "print(A)"
   ]
  },
  {
   "cell_type": "code",
   "execution_count": 23,
   "metadata": {},
   "outputs": [
    {
     "name": "stdout",
     "output_type": "stream",
     "text": [
      "Graph Vertex \t Distance from Source\n",
      "-------------------------------------\n",
      "0 \t\t 0\n",
      "1 \t\t 1.0\n",
      "2 \t\t 2.0\n",
      "3 \t\t inf\n",
      "4 \t\t inf\n",
      "5 \t\t 2.0\n",
      "6 \t\t 3.0\n"
     ]
    }
   ],
   "source": [
    "dijkstra(G, 0)"
   ]
  },
  {
   "cell_type": "code",
   "execution_count": null,
   "metadata": {},
   "outputs": [],
   "source": []
  }
 ],
 "metadata": {
  "kernelspec": {
   "display_name": "Graph-Algos",
   "language": "python",
   "name": "graph-algos"
  },
  "language_info": {
   "codemirror_mode": {
    "name": "ipython",
    "version": 3
   },
   "file_extension": ".py",
   "mimetype": "text/x-python",
   "name": "python",
   "nbconvert_exporter": "python",
   "pygments_lexer": "ipython3",
   "version": "3.8.5"
  }
 },
 "nbformat": 4,
 "nbformat_minor": 4
}
