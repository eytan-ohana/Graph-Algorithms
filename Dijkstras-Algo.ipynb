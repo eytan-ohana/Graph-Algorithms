{
 "cells": [
  {
   "cell_type": "markdown",
   "metadata": {},
   "source": [
    "# Dijkstra's Algorithm"
   ]
  },
  {
   "cell_type": "markdown",
   "metadata": {},
   "source": [
    "Dijkstra's Algorithm is a useful graph traversal algorithm developed by famed computer scientist Edsgar W. Dijkstra. In short, Dijkstra's algorithm is an algorithm that is used to find the shortest paths from the source vertex to different vertices in the graph."
   ]
  },
  {
   "cell_type": "code",
   "execution_count": 1,
   "metadata": {},
   "outputs": [],
   "source": [
    "import networkx as nx\n",
    "import matplotlib.pyplot as plt\n",
    "import numpy as np\n",
    "from helper import draw_graph, clear_marks"
   ]
  },
  {
   "cell_type": "code",
   "execution_count": 2,
   "metadata": {},
   "outputs": [
    {
     "data": {
      "image/png": "[encoded data removed]",
      "text/plain": [
       "<Figure size 432x288 with 1 Axes>"
      ]
     },
     "metadata": {},
     "output_type": "display_data"
    }
   ],
   "source": [
    "G = nx.Graph()\n",
    "G.add_edge(0, 1)\n",
    "G.add_edge(1, 2)\n",
    "G.add_edge(3, 4)\n",
    "G.add_edge(1, 5)\n",
    "G.add_edge(3, 6)\n",
    "G.add_edge(4, 6)\n",
    "G.add_edge(5, 6)\n",
    "draw_graph(G)"
   ]
  },
  {
   "cell_type": "markdown",
   "metadata": {},
   "source": [
    "## Using an adjacency list"
   ]
  },
  {
   "cell_type": "code",
   "execution_count": 3,
   "metadata": {},
   "outputs": [
    {
     "data": {
      "text/plain": [
       "[(0, 1, {}),\n",
       " (1, 2, {}),\n",
       " (1, 5, {}),\n",
       " (3, 4, {}),\n",
       " (3, 6, {}),\n",
       " (4, 6, {}),\n",
       " (5, 6, {})]"
      ]
     },
     "execution_count": 3,
     "metadata": {},
     "output_type": "execute_result"
    }
   ],
   "source": [
    "# for unweighted graphs like above\n",
    "# we consider all edges to have a \n",
    "# weight of 1.\n",
    "list(G.edges(data=True))"
   ]
  },
  {
   "cell_type": "code",
   "execution_count": 4,
   "metadata": {},
   "outputs": [],
   "source": [
    "def dijkstra_list(G, source):\n",
    "    nodes = np.array([{'node': n, 'dist': np.inf, 'prev': -1} for n in G])\n",
    "    nodes[source]['dist'] = 0\n",
    "    nodes[source]['prev'] = None\n",
    "    visited = np.array([False] * len(G))\n",
    "    while ~visited.all():\n",
    "        closest = min(nodes[~visited], key=lambda n: n.get('dist')).get('node')\n",
    "\n",
    "        visited[closest] = True\n",
    "        for neighbor in G.adj[closest]:\n",
    "            if not visited[neighbor]:\n",
    "\n",
    "                new_distance = nodes[closest]['dist'] + G.edges[(closest, neighbor)].get('weight', 1)\n",
    "\n",
    "                if nodes[neighbor]['dist'] > new_distance:\n",
    "                    nodes[neighbor]['dist'] = new_distance\n",
    "                    nodes[neighbor]['prev'] = closest\n",
    "    return nodes\n",
    "\n",
    "def shortest_path(dijkstra_paths, target):\n",
    "    \"\"\"\n",
    "    Returns the shortest path from the source node\n",
    "    to the specified target node.\n",
    "    \"\"\"\n",
    "    src = [dijkstra_path['node'] for dijkstra_path in dijkstra_paths if dijkstra_path['prev'] is None][0]\n",
    "    original_target = target\n",
    "    path = []\n",
    "    while target != -1 and target is not None:\n",
    "        path.append(target)\n",
    "        target = dijkstra_paths[target]['prev']\n",
    "    if target == -1:\n",
    "        return src, original_target, []\n",
    "    return src, original_target, path[::-1]\n",
    "\n",
    "def print_path(src, target, shortest_path):\n",
    "    if not shortest_path:\n",
    "        print(f'No path from {src} to {target}')\n",
    "        return\n",
    "    for node in shortest_path[:-1]:\n",
    "        print(node, '-->', end=' ')\n",
    "    print(shortest_path[-1])\n",
    "\n",
    "def dijsktra_traversal_table(dijkstra_paths):                 \n",
    "    print(\"Vertex\\t Weight  Previous \") \n",
    "    print(\"-------------------------\")\n",
    "    for node in dijkstra_paths: \n",
    "        print(node['node'], \"\\t\", node['dist'], \"\\t\", node['prev']) \n"
   ]
  },
  {
   "cell_type": "code",
   "execution_count": 5,
   "metadata": {},
   "outputs": [
    {
     "name": "stdout",
     "output_type": "stream",
     "text": [
      "Vertex\t Weight  Previous \n",
      "-------------------------\n",
      "0 \t 2 \t 1\n",
      "1 \t 1 \t 5\n",
      "2 \t 2 \t 1\n",
      "3 \t 2 \t 6\n",
      "4 \t 2 \t 6\n",
      "5 \t 0 \t None\n",
      "6 \t 1 \t 5\n"
     ]
    }
   ],
   "source": [
    "dijsktra_traversal_table(dijkstra_list(G, 5))"
   ]
  },
  {
   "cell_type": "code",
   "execution_count": 6,
   "metadata": {},
   "outputs": [
    {
     "name": "stdout",
     "output_type": "stream",
     "text": [
      "5 --> 6 --> 3\n"
     ]
    }
   ],
   "source": [
    "shortest_paths = dijkstra_list(G, 5)\n",
    "\n",
    "src, target, path = shortest_path(shortest_paths, 3)\n",
    "\n",
    "print_path(src, target, path)\n"
   ]
  },
  {
   "cell_type": "markdown",
   "metadata": {},
   "source": [
    "## Using an adjacency matrix\n",
    "\n",
    "Here is the pseudocode for Dijkstra's Algorithm.\n",
    "\n",
    "```\n",
    "function Dijkstra(Adjacency Matrix, source):\n",
    "    distance at source vertex = 0\n",
    "    \n",
    "    for range of amount of vertices:\n",
    "        for range of amount of vertices:\n",
    "            if vertex was not visited and distance is less than infinity:\n",
    "                save distance of specific vertex as minimum\n",
    "                save the vertex           \n",
    "        vertex saved is marked as visited\n",
    "            \n",
    "        for range of amount of vertices:\n",
    "            if distance from saved vertex to current vertex is greater than zero and \n",
    "            vertex was not visited and \n",
    "            distance of current vertex > distance of minimum vertex + distance from saved vertex to current vertex:\n",
    "                distance of current vertex = distance of minimum vertex + distance from saved vertex to current vertex\n",
    "\n",
    "```"
   ]
  },
  {
   "cell_type": "markdown",
   "metadata": {},
   "source": [
    "## Code for Dijkstra's Algorithm"
   ]
  },
  {
   "cell_type": "markdown",
   "metadata": {},
   "source": [
    "The purpose of Dijkstra's Algorithm is to find the shortest path to each vertex in a graph from a start vertex. To determine what would classify as the shortest path from a source vertex to any other vertex, each edge is given a weight value. Using this, Dijkstra's Algorithm finds all the different paths from source vertex to a certain vertex on the graph and compares the added up weight values from the edges along the path. The path with the smallest value from the added weights is considered the shortest path. This is done to every other vertex as well, giving a shortest path from a source vertex to every other vertex in a graph."
   ]
  },
  {
   "cell_type": "markdown",
   "metadata": {},
   "source": [
    "In our implementation of Dijkstra, we pass in an adjacency matrix as parameter. An adjacency matrix is used to store the weights of an edge between two vertices. Each element within the matrix tells us whether 2 vertices are adjacent and the value given as the element is the weight. If 2 vertices are NOT adjacent then the value stored as the element is 0. We also pass in the source vertex."
   ]
  },
  {
   "cell_type": "code",
   "execution_count": 7,
   "metadata": {},
   "outputs": [],
   "source": [
    "def dijkstra_matrix(A, source): \n",
    "        nodes = np.array([{'node': n, 'dist': np.inf, 'prev': -1} for n in range(len(A))]) \n",
    "        nodes[source]['dist'] = 0\n",
    "        nodes[source]['prev'] = None\n",
    "        visited = [False] * len(A)\n",
    "   \n",
    "        for i in range(len(A)): \n",
    "        \n",
    "            min = np.inf \n",
    "   \n",
    "            for j in range(len(A)): \n",
    "                if nodes[j]['dist'] < min and visited[j] == False: \n",
    "                    min = nodes[j]['dist'] \n",
    "                    min_index = j\n",
    "            j = min_index\n",
    "            visited[j] = True\n",
    "   \n",
    "            for k in range(len(A)): \n",
    "                if (A[j][k] > 0) and (visited[k] == False) and (nodes[k]['dist'] > nodes[j]['dist'] + A[j][k]): \n",
    "                    nodes[k]['dist'] = nodes[j]['dist'] + A[j][k]\n",
    "                    nodes[k]['prev'] = j\n",
    "        return nodes"
   ]
  },
  {
   "cell_type": "markdown",
   "metadata": {},
   "source": [
    "## Undirected Graph\n",
    "\n",
    "Dijkstra's algorithm in the most simplest form can be used to find the shortest path within an undirected graph. In this undirected graph, weights have not been specified. Since that is the case, if two vertices have an edge between them then the weight value will automatically be initalized to 1.0.  "
   ]
  },
  {
   "cell_type": "markdown",
   "metadata": {},
   "source": [
    "Below is the adjacency matrix for the graph. As one can see, this matrix is symmetrical along the diagonal. This is because the graph is undirected and if vertex A has a path to vertex B then therefore vertex B has a path to vertex A as well."
   ]
  },
  {
   "cell_type": "code",
   "execution_count": 8,
   "metadata": {},
   "outputs": [
    {
     "data": {
      "text/plain": [
       "array([[0., 1., 0., 0., 0., 0., 0.],\n",
       "       [1., 0., 1., 0., 0., 1., 0.],\n",
       "       [0., 1., 0., 0., 0., 0., 0.],\n",
       "       [0., 0., 0., 0., 1., 0., 1.],\n",
       "       [0., 0., 0., 1., 0., 0., 1.],\n",
       "       [0., 1., 0., 0., 0., 0., 1.],\n",
       "       [0., 0., 0., 1., 1., 1., 0.]])"
      ]
     },
     "execution_count": 8,
     "metadata": {},
     "output_type": "execute_result"
    }
   ],
   "source": [
    "A = nx.to_numpy_array(G)\n",
    "A"
   ]
  },
  {
   "cell_type": "markdown",
   "metadata": {},
   "source": [
    "### Results\n",
    "\n",
    "Here, we pass in the graph we created along with the adjacency matrix of it. We also pass in our source vertex which in this case will be the 0 vertex."
   ]
  },
  {
   "cell_type": "code",
   "execution_count": 9,
   "metadata": {},
   "outputs": [
    {
     "data": {
      "text/plain": [
       "array([{'node': 0, 'dist': 0, 'prev': None},\n",
       "       {'node': 1, 'dist': 1.0, 'prev': 0},\n",
       "       {'node': 2, 'dist': 2.0, 'prev': 1},\n",
       "       {'node': 3, 'dist': 4.0, 'prev': 6},\n",
       "       {'node': 4, 'dist': 4.0, 'prev': 6},\n",
       "       {'node': 5, 'dist': 2.0, 'prev': 1},\n",
       "       {'node': 6, 'dist': 3.0, 'prev': 5}], dtype=object)"
      ]
     },
     "execution_count": 9,
     "metadata": {},
     "output_type": "execute_result"
    }
   ],
   "source": [
    "dijkstra_matrix(A, 0)"
   ]
  },
  {
   "cell_type": "markdown",
   "metadata": {},
   "source": [
    "## Directed Graph\n",
    "\n",
    "Here is Dijkstra's Algorithm implemented on a directed graph with uninitialized weights. Since direction is important here, if the source vertex cannot reach a certain vertex within the graph, *inf* (i.e. infinity) will be printed as the shortest path."
   ]
  },
  {
   "cell_type": "code",
   "execution_count": 10,
   "metadata": {},
   "outputs": [
    {
     "data": {
      "image/png": "[encoded data removed]",
      "text/plain": [
       "<Figure size 432x288 with 1 Axes>"
      ]
     },
     "metadata": {},
     "output_type": "display_data"
    }
   ],
   "source": [
    "G = nx.DiGraph()\n",
    "G.add_edge(0, 1)\n",
    "G.add_edge(1, 2)\n",
    "G.add_edge(3, 4)\n",
    "G.add_edge(1, 5)\n",
    "G.add_edge(3, 6)\n",
    "G.add_edge(4, 6)\n",
    "G.add_edge(5, 6)\n",
    "draw_graph(G)"
   ]
  },
  {
   "cell_type": "code",
   "execution_count": 11,
   "metadata": {},
   "outputs": [
    {
     "name": "stdout",
     "output_type": "stream",
     "text": [
      "[[0. 1. 0. 0. 0. 0. 0.]\n",
      " [0. 0. 1. 0. 0. 1. 0.]\n",
      " [0. 0. 0. 0. 0. 0. 0.]\n",
      " [0. 0. 0. 0. 1. 0. 1.]\n",
      " [0. 0. 0. 0. 0. 0. 1.]\n",
      " [0. 0. 0. 0. 0. 0. 1.]\n",
      " [0. 0. 0. 0. 0. 0. 0.]]\n"
     ]
    }
   ],
   "source": [
    "A = nx.to_numpy_array(G)\n",
    "print(A)"
   ]
  },
  {
   "cell_type": "code",
   "execution_count": 12,
   "metadata": {},
   "outputs": [
    {
     "name": "stdout",
     "output_type": "stream",
     "text": [
      "No path from 5 to 3\n"
     ]
    }
   ],
   "source": [
    "shortest_paths = dijkstra_matrix(A, 5)\n",
    "\n",
    "src, target, path = shortest_path(shortest_paths, 3)\n",
    "\n",
    "print_path(src, target, path)"
   ]
  },
  {
   "cell_type": "markdown",
   "metadata": {},
   "source": [
    "Here is the adjacency matrix. This is NOT symmetrical because the graph is directed."
   ]
  },
  {
   "cell_type": "markdown",
   "metadata": {},
   "source": [
    "### Results"
   ]
  },
  {
   "cell_type": "code",
   "execution_count": 13,
   "metadata": {},
   "outputs": [
    {
     "data": {
      "text/plain": [
       "array([{'node': 0, 'dist': 0, 'prev': None},\n",
       "       {'node': 1, 'dist': 1.0, 'prev': 0},\n",
       "       {'node': 2, 'dist': 2.0, 'prev': 1},\n",
       "       {'node': 3, 'dist': inf, 'prev': -1},\n",
       "       {'node': 4, 'dist': inf, 'prev': -1},\n",
       "       {'node': 5, 'dist': 2.0, 'prev': 1},\n",
       "       {'node': 6, 'dist': 3.0, 'prev': 5}], dtype=object)"
      ]
     },
     "execution_count": 13,
     "metadata": {},
     "output_type": "execute_result"
    }
   ],
   "source": [
    "dijkstra_matrix(A, 0)"
   ]
  },
  {
   "cell_type": "markdown",
   "metadata": {},
   "source": [
    "## Undirected Graph with Initialized Weights\n",
    "\n",
    "In this undirected graph, weights have been initialized for each path. "
   ]
  },
  {
   "cell_type": "code",
   "execution_count": 14,
   "metadata": {},
   "outputs": [
    {
     "data": {
      "image/png": "[encoded data removed]",
      "text/plain": [
       "<Figure size 432x288 with 1 Axes>"
      ]
     },
     "metadata": {},
     "output_type": "display_data"
    }
   ],
   "source": [
    "G = nx.Graph()\n",
    "G.add_edge(0, 1,weight=2.0)\n",
    "G.add_edge(1, 2,weight=1.0)\n",
    "G.add_edge(3, 4,weight=4.0)\n",
    "G.add_edge(1, 5,weight=6.0)\n",
    "G.add_edge(3, 6,weight=7.0)\n",
    "G.add_edge(4, 6,weight=2.0)\n",
    "G.add_edge(5, 6,weight=2.0)\n",
    "draw_graph(G)"
   ]
  },
  {
   "cell_type": "markdown",
   "metadata": {},
   "source": [
    "These are the weights of the edges between two vertices."
   ]
  },
  {
   "cell_type": "code",
   "execution_count": 15,
   "metadata": {},
   "outputs": [
    {
     "name": "stdout",
     "output_type": "stream",
     "text": [
      "(0, 1, {'weight': 2.0})\n",
      "(1, 2, {'weight': 1.0})\n",
      "(1, 5, {'weight': 6.0})\n",
      "(3, 4, {'weight': 4.0})\n",
      "(3, 6, {'weight': 7.0})\n",
      "(4, 6, {'weight': 2.0})\n",
      "(5, 6, {'weight': 2.0})\n"
     ]
    }
   ],
   "source": [
    "for i in list(G.edges(data=True)):\n",
    "    print(i)"
   ]
  },
  {
   "cell_type": "markdown",
   "metadata": {},
   "source": [
    "Here is our matrix. As stated above, this is a symmetrical matrix along the diagonal because the graph is undirected."
   ]
  },
  {
   "cell_type": "code",
   "execution_count": 16,
   "metadata": {},
   "outputs": [
    {
     "name": "stdout",
     "output_type": "stream",
     "text": [
      "[[0. 2. 0. 0. 0. 0. 0.]\n",
      " [2. 0. 1. 0. 0. 6. 0.]\n",
      " [0. 1. 0. 0. 0. 0. 0.]\n",
      " [0. 0. 0. 0. 4. 0. 7.]\n",
      " [0. 0. 0. 4. 0. 0. 2.]\n",
      " [0. 6. 0. 0. 0. 0. 2.]\n",
      " [0. 0. 0. 7. 2. 2. 0.]]\n"
     ]
    }
   ],
   "source": [
    "A = nx.to_numpy_array(G)\n",
    "print(A)"
   ]
  },
  {
   "cell_type": "markdown",
   "metadata": {},
   "source": [
    "### Results"
   ]
  },
  {
   "cell_type": "code",
   "execution_count": 17,
   "metadata": {},
   "outputs": [
    {
     "data": {
      "text/plain": [
       "array([{'node': 0, 'dist': 0, 'prev': None},\n",
       "       {'node': 1, 'dist': 2.0, 'prev': 0},\n",
       "       {'node': 2, 'dist': 3.0, 'prev': 1},\n",
       "       {'node': 3, 'dist': 16.0, 'prev': 4},\n",
       "       {'node': 4, 'dist': 12.0, 'prev': 6},\n",
       "       {'node': 5, 'dist': 8.0, 'prev': 1},\n",
       "       {'node': 6, 'dist': 10.0, 'prev': 5}], dtype=object)"
      ]
     },
     "execution_count": 17,
     "metadata": {},
     "output_type": "execute_result"
    }
   ],
   "source": [
    "dijkstra_matrix(A, 0)"
   ]
  },
  {
   "cell_type": "markdown",
   "metadata": {},
   "source": [
    "## Directed Graph with Initialized Weights\n",
    "\n",
    "In this directed graph, weights have been initialized for each path. "
   ]
  },
  {
   "cell_type": "code",
   "execution_count": 18,
   "metadata": {},
   "outputs": [
    {
     "data": {
      "image/png": "[encoded data removed]",
      "text/plain": [
       "<Figure size 432x288 with 1 Axes>"
      ]
     },
     "metadata": {},
     "output_type": "display_data"
    }
   ],
   "source": [
    "G = nx.DiGraph()\n",
    "G.add_edge(0, 1,weight=3.0)\n",
    "G.add_edge(1, 2,weight=1.0)\n",
    "G.add_edge(3, 4,weight=4.0)\n",
    "G.add_edge(1, 5,weight=2.0)\n",
    "G.add_edge(3, 6,weight=8.0)\n",
    "G.add_edge(4, 6,weight=3.0)\n",
    "G.add_edge(5, 6,weight=2.0)\n",
    "draw_graph(G)\n"
   ]
  },
  {
   "cell_type": "markdown",
   "metadata": {},
   "source": [
    "Here are the weights for the edges in the directed graph. "
   ]
  },
  {
   "cell_type": "code",
   "execution_count": 19,
   "metadata": {},
   "outputs": [
    {
     "name": "stdout",
     "output_type": "stream",
     "text": [
      "(0, 1, {'weight': 3.0})\n",
      "(1, 2, {'weight': 1.0})\n",
      "(1, 5, {'weight': 2.0})\n",
      "(3, 4, {'weight': 4.0})\n",
      "(3, 6, {'weight': 8.0})\n",
      "(4, 6, {'weight': 3.0})\n",
      "(5, 6, {'weight': 2.0})\n"
     ]
    }
   ],
   "source": [
    "for i in list(G.edges(data=True)):\n",
    "    print(i)"
   ]
  },
  {
   "cell_type": "code",
   "execution_count": 20,
   "metadata": {},
   "outputs": [
    {
     "name": "stdout",
     "output_type": "stream",
     "text": [
      "[[0. 3. 0. 0. 0. 0. 0.]\n",
      " [0. 0. 1. 0. 0. 2. 0.]\n",
      " [0. 0. 0. 0. 0. 0. 0.]\n",
      " [0. 0. 0. 0. 4. 0. 8.]\n",
      " [0. 0. 0. 0. 0. 0. 3.]\n",
      " [0. 0. 0. 0. 0. 0. 2.]\n",
      " [0. 0. 0. 0. 0. 0. 0.]]\n"
     ]
    }
   ],
   "source": [
    "A = nx.to_numpy_array(G)\n",
    "print(A)"
   ]
  },
  {
   "cell_type": "markdown",
   "metadata": {},
   "source": [
    "### Results"
   ]
  },
  {
   "cell_type": "code",
   "execution_count": 21,
   "metadata": {},
   "outputs": [
    {
     "data": {
      "text/plain": [
       "array([{'node': 0, 'dist': 0, 'prev': None},\n",
       "       {'node': 1, 'dist': 3.0, 'prev': 0},\n",
       "       {'node': 2, 'dist': 4.0, 'prev': 1},\n",
       "       {'node': 3, 'dist': inf, 'prev': -1},\n",
       "       {'node': 4, 'dist': inf, 'prev': -1},\n",
       "       {'node': 5, 'dist': 5.0, 'prev': 1},\n",
       "       {'node': 6, 'dist': 7.0, 'prev': 5}], dtype=object)"
      ]
     },
     "execution_count": 21,
     "metadata": {},
     "output_type": "execute_result"
    }
   ],
   "source": [
    "dijkstra_matrix(A, 0)"
   ]
  },
  {
   "cell_type": "code",
   "execution_count": null,
   "metadata": {},
   "outputs": [],
   "source": []
  },
  {
   "cell_type": "code",
   "execution_count": null,
   "metadata": {},
   "outputs": [],
   "source": []
  }
 ],
 "metadata": {
  "kernelspec": {
   "display_name": "Graph-Algos",
   "language": "python",
   "name": "graph-algos"
  },
  "language_info": {
   "codemirror_mode": {
    "name": "ipython",
    "version": 3
   },
   "file_extension": ".py",
   "mimetype": "text/x-python",
   "name": "python",
   "nbconvert_exporter": "python",
   "pygments_lexer": "ipython3",
   "version": "3.7.9"
  }
 },
 "nbformat": 4,
 "nbformat_minor": 4
}
