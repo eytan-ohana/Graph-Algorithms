{
 "cells": [
  {
   "cell_type": "markdown",
   "metadata": {},
   "source": [
    "# Dijkstra's Algorithm"
   ]
  },
  {
   "cell_type": "markdown",
   "metadata": {},
   "source": [
    "Dijkstra's Algorithm is a useful graph traversal algorithm developed by famed computer scientist Edsgar W. Dijkstra. In short, Dijkstra's algorithm is an algorithm that is used to find the shortest paths from the source vertex to different vertices in the graph. In order to do this, our function must take in the graph represented in the form of an adjacency list or matrix. Dijkstra's Algorithm will use the values in the list or the matrix to determine the shortest path between a source vertex and, in one manner of the implementation, every other vertex in the graph. Another common implementation of Dijkstra Algorithm is to determine the shortest path between a source vertex and an end vertex on the graph as opposed to every vertex. An application of using an end vertex is used in navigation systems."
   ]
  },
  {
   "cell_type": "code",
   "execution_count": 1,
   "metadata": {},
   "outputs": [],
   "source": [
    "import networkx as nx\n",
    "import matplotlib.pyplot as plt\n",
    "import numpy as np\n",
    "from helper import draw_graph, clear_marks"
   ]
  },
  {
   "cell_type": "markdown",
   "metadata": {},
   "source": [
    "# Pseudocode"
   ]
  },
  {
   "cell_type": "markdown",
   "metadata": {},
   "source": [
    "The purpose of Dijkstra's Algorithm is to find the shortest path to any vertex in a graph from a start vertex. To determine what would classify as the shortest path from a source vertex to any other vertex, each edge is given a weight value. Using this, Dijkstra's Algorithm finds all the different paths from source vertex to a certain vertex on the graph and compares the added up weight values from the edges along the path. The path with the smallest value from the added weights is considered the shortest path. This is done to every other vertex as well, giving a shortest path from a source vertex to every other vertex in a graph."
   ]
  },
  {
   "cell_type": "markdown",
   "metadata": {},
   "source": [
    "There are two implementations of Dijkstra using different graph representations as input parameters. One variation involves passing in an adjacency list as a parameter. An adjacency list represents a graph by creating a list of sets of vertices where a pair indicates an edge between those two vertices. When a graph is directed, the ordering of the paired vertices matter. In another variation of the algorithm, we pass in an adjacency matrix as parameter instead of an adjacency list. An adjacency matrix is used to store the weights of an edge between two vertices. Each element within the matrix tells us whether 2 vertices are adjacent and the value given as the element is the weight. If 2 vertices are NOT adjacent then the value stored as the element is 0. The distance from a vertex to itself is also 0. We pass in a source vertex for both implementations of the algorithm. "
   ]
  },
  {
   "cell_type": "markdown",
   "metadata": {},
   "source": [
    "## Using an adjacency list\n",
    "Here is the pseudcode for Dijkstra's Algorithm using an adjacency list.\n",
    "\n",
    "```\n",
    "function Dijkstra(Adjacency List, source):\n",
    "    init distances for all nodes\n",
    "        (0 for source / infinity for rest)\n",
    "    init every node as unvisited\n",
    "    \n",
    "    while there are still unvisited nodes:\n",
    "       get the unvisited node with the smallest distance\n",
    "       mark it as visited\n",
    "       for each unvisited neighbor of the min node:\n",
    "           if the current distance of the neighbor is larger \n",
    "              than the distance of the min node +  the weight of the edge (min node, neighbor):\n",
    "               set the the distance of the neighbor to the new distance\n",
    "               mark min node as the previous node to the neighbor.\n",
    "\n",
    "```\n",
    "\n",
    "\n",
    "## Using an adjacency matrix\n",
    "\n",
    "Here is the pseudocode for Dijkstra's Algorithm using an adjacency matrix.\n",
    "\n",
    "```\n",
    "function Dijkstra(Adjacency Matrix, source):\n",
    "    distance at source vertex = 0\n",
    "    \n",
    "    for range of amount of vertices:\n",
    "        for range of amount of vertices:\n",
    "            if vertex was not visited and distance is less than infinity:\n",
    "                save distance of specific vertex as minimum\n",
    "                save the vertex           \n",
    "        vertex saved is marked as visited\n",
    "            \n",
    "        for range of amount of vertices:\n",
    "            if distance from saved vertex to current vertex is greater than zero and \n",
    "            vertex was not visited and \n",
    "            distance of current vertex > distance of minimum vertex + distance from saved vertex to current vertex:\n",
    "                distance of current vertex = distance of minimum vertex + distance from saved vertex to current vertex\n",
    "\n",
    "```"
   ]
  },
  {
   "cell_type": "markdown",
   "metadata": {},
   "source": [
    "# Code for Dijkstra's Implementation\n",
    "\n",
    "As specified above, one version of the algorithm takes in an adjacency matrix as a parameter while another application passes in an adjacency list. Another thing to note here is that both implementations find the path from a source vertex to __every__ other vertex in the graph. The outputs of both functions are identical as they output dictionaries. The keys in the dictionaries are *node dist* and *prev*. The first key stores the vertex in discussion, the *dist* key stores the distance from the vertex in discussion to the source vertex and the remaining key stores the previous vertex in the traversal in relation to the vertex in discussion. The distance is calculated by adding up the weights of the edges along the traversal. In an unweighted graph, an edge always as a weight of 1.0 while in a weighted graph, weight can be of any value."
   ]
  },
  {
   "cell_type": "code",
   "execution_count": 2,
   "metadata": {},
   "outputs": [],
   "source": [
    "def dijkstra_list(G, source):\n",
    "    nodes = np.array([{'node': n, 'dist': np.inf, 'prev': 'Unreachable'} for n in G])\n",
    "    nodes[source]['dist'] = 0\n",
    "    nodes[source]['prev'] = None\n",
    "    visited = np.array([False] * len(G))\n",
    "    while ~visited.all():\n",
    "        closest = min(nodes[~visited], key=lambda n: n.get('dist')).get('node')\n",
    "\n",
    "        visited[closest] = True\n",
    "        for neighbor in G.adj[closest]:\n",
    "            if not visited[neighbor]:\n",
    "\n",
    "                new_distance = nodes[closest]['dist'] + G.edges[(closest, neighbor)].get('weight', 1)\n",
    "\n",
    "                if nodes[neighbor]['dist'] > new_distance:\n",
    "                    nodes[neighbor]['dist'] = new_distance\n",
    "                    nodes[neighbor]['prev'] = closest\n",
    "    return nodes"
   ]
  },
  {
   "cell_type": "code",
   "execution_count": 3,
   "metadata": {},
   "outputs": [],
   "source": [
    "def dijkstra_matrix(A, source): \n",
    "        nodes = np.array([{'node': n, 'dist': np.inf, 'prev': 'Unreachable'} for n in range(len(A))]) \n",
    "        nodes[source]['dist'] = 0\n",
    "        nodes[source]['prev'] = None\n",
    "        visited = [False] * len(A)\n",
    "   \n",
    "        for i in range(len(A)): \n",
    "        \n",
    "            min = np.inf \n",
    "   \n",
    "            for j in range(len(A)): \n",
    "                if nodes[j]['dist'] < min and visited[j] == False: \n",
    "                    min = nodes[j]['dist'] \n",
    "                    min_index = j\n",
    "            j = min_index\n",
    "            visited[j] = True\n",
    "   \n",
    "            for k in range(len(A)): \n",
    "                if (A[j][k] > 0) and (visited[k] == False) and (nodes[k]['dist'] > nodes[j]['dist'] + A[j][k]): \n",
    "                    nodes[k]['dist'] = nodes[j]['dist'] + A[j][k]\n",
    "                    nodes[k]['prev'] = j\n",
    "        return nodes"
   ]
  },
  {
   "cell_type": "markdown",
   "metadata": {},
   "source": [
    "## Additional Functions\n",
    "\n",
    "The previous implementations of Dijkstra's algorithm output the shortest path of a source vertex to __every__ other vertex in the graph. In order to print in a prettier format than a dictionary data type, we have created a function that prints the graph into a table, displaying the vertex, its distance from the source and the previous vertex in the traversal. In contrast to every vertex, there are implementations of Dijkstra's algorithm that print the path from a source vertex to a specified end vertex. We have added to accomadate this variation. We have also added a function that will take the output of the previously mentioned function (*shortest_path*) and displays the path from a source vertex to a specified end vertex using an arrow diagram."
   ]
  },
  {
   "cell_type": "code",
   "execution_count": 4,
   "metadata": {},
   "outputs": [],
   "source": [
    "def dijkstra_traversal_table(dijkstra_paths):                 \n",
    "    print(\"Vertex\\t Weight  Previous \") \n",
    "    print(\"-------------------------\")\n",
    "    for node in dijkstra_paths: \n",
    "        print(node['node'], \"\\t\", node['dist'], \"\\t\", node['prev']) \n",
    "\n",
    "def shortest_path(dijkstra_paths, target):\n",
    "    \"\"\"\n",
    "    Returns the shortest path from the source node\n",
    "    to the specified target node.\n",
    "    \"\"\"\n",
    "    src = [dijkstra_path['node'] for dijkstra_path in dijkstra_paths if dijkstra_path['prev'] is None][0]\n",
    "    original_target = target\n",
    "    path = []\n",
    "    while target != -1 and target is not None:\n",
    "        path.append(target)\n",
    "        target = dijkstra_paths[target]['prev']\n",
    "    if target == -1:\n",
    "        return src, original_target, []\n",
    "    return src, original_target, path[::-1]\n",
    "\n",
    "def print_path(src, target, shortest_path):\n",
    "    if not shortest_path:\n",
    "        print(f'No path from {src} to {target}')\n",
    "        return\n",
    "    for node in shortest_path[:-1]:\n",
    "        print(node, '-->', end=' ')\n",
    "    print(shortest_path[-1])"
   ]
  },
  {
   "cell_type": "markdown",
   "metadata": {},
   "source": [
    "# Undirected Graph (Unweighted)\n",
    "\n",
    "Dijkstra's algorithm in the most simplest form can be used to find the shortest path within an undirected graph. In this undirected graph, weights have not been specified. Since that is the case, if two vertices have an edge between them then the weight value will automatically be initalized to 1.0.  "
   ]
  },
  {
   "cell_type": "code",
   "execution_count": 5,
   "metadata": {},
   "outputs": [
    {
     "data": {
      "image/png": "[encoded data removed]",
      "text/plain": [
       "<Figure size 432x288 with 1 Axes>"
      ]
     },
     "metadata": {},
     "output_type": "display_data"
    }
   ],
   "source": [
    "G = nx.erdos_renyi_graph(10, 0.3)\n",
    "draw_graph(G)"
   ]
  },
  {
   "cell_type": "markdown",
   "metadata": {},
   "source": [
    "### Adjacency List for Undirected Unweighted\n",
    "First, we will implement the traversal by passing in the graph as an adjacency list."
   ]
  },
  {
   "cell_type": "code",
   "execution_count": 6,
   "metadata": {},
   "outputs": [
    {
     "name": "stdout",
     "output_type": "stream",
     "text": [
      "Vertex\t Weight  Previous \n",
      "-------------------------\n",
      "0 \t 4 \t 6\n",
      "1 \t 1 \t 3\n",
      "2 \t 1 \t 3\n",
      "3 \t 0 \t None\n",
      "4 \t 3 \t 5\n",
      "5 \t 2 \t 2\n",
      "6 \t 3 \t 5\n",
      "7 \t 2 \t 1\n",
      "8 \t 2 \t 2\n",
      "9 \t 2 \t 1\n"
     ]
    }
   ],
   "source": [
    "output_list = dijkstra_list(G, 3)\n",
    "dijkstra_traversal_table(output_list)"
   ]
  },
  {
   "cell_type": "markdown",
   "metadata": {},
   "source": [
    "### Adjacency Matrix for Undirected Unweighted\n",
    "Below is the adjacency matrix for the graph. As one can see, this matrix is symmetrical along the diagonal. This is because the graph is undirected and if vertex A has a path to vertex B then therefore vertex B has a path to vertex A as well."
   ]
  },
  {
   "cell_type": "code",
   "execution_count": 7,
   "metadata": {},
   "outputs": [
    {
     "data": {
      "text/plain": [
       "array([[0., 0., 0., 0., 0., 0., 1., 0., 0., 0.],\n",
       "       [0., 0., 0., 1., 0., 0., 0., 1., 0., 1.],\n",
       "       [0., 0., 0., 1., 0., 1., 0., 0., 1., 1.],\n",
       "       [0., 1., 1., 0., 0., 0., 0., 0., 0., 0.],\n",
       "       [0., 0., 0., 0., 0., 1., 0., 0., 0., 0.],\n",
       "       [0., 0., 1., 0., 1., 0., 1., 0., 0., 0.],\n",
       "       [1., 0., 0., 0., 0., 1., 0., 0., 1., 1.],\n",
       "       [0., 1., 0., 0., 0., 0., 0., 0., 0., 0.],\n",
       "       [0., 0., 1., 0., 0., 0., 1., 0., 0., 0.],\n",
       "       [0., 1., 1., 0., 0., 0., 1., 0., 0., 0.]])"
      ]
     },
     "execution_count": 7,
     "metadata": {},
     "output_type": "execute_result"
    }
   ],
   "source": [
    "A = nx.to_numpy_array(G)\n",
    "A"
   ]
  },
  {
   "cell_type": "code",
   "execution_count": 8,
   "metadata": {},
   "outputs": [
    {
     "name": "stdout",
     "output_type": "stream",
     "text": [
      "Vertex\t Weight  Previous \n",
      "-------------------------\n",
      "0 \t 4.0 \t 6\n",
      "1 \t 1.0 \t 3\n",
      "2 \t 1.0 \t 3\n",
      "3 \t 0 \t None\n",
      "4 \t 3.0 \t 5\n",
      "5 \t 2.0 \t 2\n",
      "6 \t 3.0 \t 5\n",
      "7 \t 2.0 \t 1\n",
      "8 \t 2.0 \t 2\n",
      "9 \t 2.0 \t 1\n"
     ]
    }
   ],
   "source": [
    "output_matrix = dijkstra_matrix(A, 3)\n",
    "dijkstra_traversal_table(output_matrix)"
   ]
  },
  {
   "cell_type": "markdown",
   "metadata": {},
   "source": [
    "### Printing Paths"
   ]
  },
  {
   "cell_type": "markdown",
   "metadata": {},
   "source": [
    "We can also visualize the path from a source vertex to a specified vertex using the *print_path* function created above. "
   ]
  },
  {
   "cell_type": "code",
   "execution_count": 9,
   "metadata": {},
   "outputs": [
    {
     "name": "stdout",
     "output_type": "stream",
     "text": [
      "3 --> 1 --> 9\n"
     ]
    }
   ],
   "source": [
    "src, target, path_3_to_9 = shortest_path(output_list, 9)\n",
    "print_path(src, target, path_3_to_9)"
   ]
  },
  {
   "cell_type": "markdown",
   "metadata": {},
   "source": [
    "This can be done using the matrix output as well (since the matrix and list functions both output the same thing)."
   ]
  },
  {
   "cell_type": "code",
   "execution_count": 10,
   "metadata": {},
   "outputs": [
    {
     "name": "stdout",
     "output_type": "stream",
     "text": [
      "3 --> 1 --> 9\n"
     ]
    }
   ],
   "source": [
    "src, target, path_3_to_9 = shortest_path(output_matrix, 9)\n",
    "print_path(src, target, path_3_to_9)"
   ]
  },
  {
   "cell_type": "markdown",
   "metadata": {},
   "source": [
    "# Directed Graph (Unweighted)\n",
    "\n",
    "Here is Dijkstra's Algorithm implemented on a directed graph with uninitialized weights. Since direction is important here, if the source vertex cannot reach a certain vertex within the graph, *inf* (i.e. infinity) will be printed as the distance and \"unreachable\" will be printed as the previous vertex."
   ]
  },
  {
   "cell_type": "code",
   "execution_count": 11,
   "metadata": {},
   "outputs": [
    {
     "data": {
      "image/png": "[encoded data removed]",
      "text/plain": [
       "<Figure size 432x288 with 1 Axes>"
      ]
     },
     "metadata": {},
     "output_type": "display_data"
    }
   ],
   "source": [
    "G = nx.DiGraph()\n",
    "G.add_edge(0, 1)\n",
    "G.add_edge(1, 2)\n",
    "G.add_edge(3, 4)\n",
    "G.add_edge(1, 5)\n",
    "G.add_edge(3, 6)\n",
    "G.add_edge(4, 6)\n",
    "G.add_edge(5, 6)\n",
    "draw_graph(G)"
   ]
  },
  {
   "cell_type": "markdown",
   "metadata": {},
   "source": [
    "### Adjacency List for Directed Unweighted"
   ]
  },
  {
   "cell_type": "code",
   "execution_count": 12,
   "metadata": {},
   "outputs": [
    {
     "name": "stdout",
     "output_type": "stream",
     "text": [
      "Vertex\t Weight  Previous \n",
      "-------------------------\n",
      "0 \t 0 \t None\n",
      "1 \t 1 \t 0\n",
      "2 \t 2 \t 1\n",
      "3 \t inf \t Unreachable\n",
      "4 \t inf \t Unreachable\n",
      "5 \t 2 \t 1\n",
      "6 \t 3 \t 5\n"
     ]
    }
   ],
   "source": [
    "output_list = dijkstra_list(G, 0)\n",
    "dijkstra_traversal_table(output_list)"
   ]
  },
  {
   "cell_type": "markdown",
   "metadata": {},
   "source": [
    "### Adjacency Matrix for Directed Unweighted\n",
    "\n",
    "One thing to notice here is the matrix is NOT symmetrical along the diagonal. This is an indication of a directed graph."
   ]
  },
  {
   "cell_type": "code",
   "execution_count": 13,
   "metadata": {},
   "outputs": [
    {
     "data": {
      "text/plain": [
       "array([[0., 1., 0., 0., 0., 0., 0.],\n",
       "       [0., 0., 1., 0., 0., 1., 0.],\n",
       "       [0., 0., 0., 0., 0., 0., 0.],\n",
       "       [0., 0., 0., 0., 1., 0., 1.],\n",
       "       [0., 0., 0., 0., 0., 0., 1.],\n",
       "       [0., 0., 0., 0., 0., 0., 1.],\n",
       "       [0., 0., 0., 0., 0., 0., 0.]])"
      ]
     },
     "execution_count": 13,
     "metadata": {},
     "output_type": "execute_result"
    }
   ],
   "source": [
    "A = nx.to_numpy_array(G)\n",
    "A"
   ]
  },
  {
   "cell_type": "code",
   "execution_count": 14,
   "metadata": {},
   "outputs": [
    {
     "name": "stdout",
     "output_type": "stream",
     "text": [
      "Vertex\t Weight  Previous \n",
      "-------------------------\n",
      "0 \t 0 \t None\n",
      "1 \t 1.0 \t 0\n",
      "2 \t 2.0 \t 1\n",
      "3 \t inf \t Unreachable\n",
      "4 \t inf \t Unreachable\n",
      "5 \t 2.0 \t 1\n",
      "6 \t 3.0 \t 5\n"
     ]
    }
   ],
   "source": [
    "output_matrix = dijkstra_matrix(A, 0)\n",
    "dijkstra_traversal_table(output_matrix)"
   ]
  },
  {
   "cell_type": "markdown",
   "metadata": {},
   "source": [
    "### Printing Paths"
   ]
  },
  {
   "cell_type": "code",
   "execution_count": 15,
   "metadata": {},
   "outputs": [
    {
     "name": "stdout",
     "output_type": "stream",
     "text": [
      "0 --> 1 --> 5 --> 6\n"
     ]
    }
   ],
   "source": [
    "src, target, path_0_to_6 = shortest_path(output_list, 6)\n",
    "print_path(src, target, path_0_to_6)"
   ]
  },
  {
   "cell_type": "markdown",
   "metadata": {},
   "source": [
    "## Undirected Graph with Initialized Weights\n",
    "\n",
    "In the graph below, weights have been initialized for the graph. Instead of adding the value 1 for each edge along a traversal, we add the values specified as weights. "
   ]
  },
  {
   "cell_type": "code",
   "execution_count": 34,
   "metadata": {},
   "outputs": [
    {
     "data": {
      "image/png": "[encoded data removed]",
      "text/plain": [
       "<Figure size 432x288 with 1 Axes>"
      ]
     },
     "metadata": {},
     "output_type": "display_data"
    }
   ],
   "source": [
    "G = nx.Graph()\n",
    "G.add_edge(0, 1,weight=2.0)\n",
    "G.add_edge(1, 2,weight=1.0)\n",
    "G.add_edge(3, 4,weight=4.0)\n",
    "G.add_edge(2, 5,weight=6.0)\n",
    "G.add_edge(4, 6,weight=2.0)\n",
    "G.add_edge(3, 7,weight=7.0)\n",
    "G.add_edge(3, 5,weight=2.0)\n",
    "G.add_edge(7, 1,weight=5.0)\n",
    "draw_graph(G)"
   ]
  },
  {
   "cell_type": "markdown",
   "metadata": {},
   "source": [
    "These are the weights of the edges between two vertices."
   ]
  },
  {
   "cell_type": "code",
   "execution_count": 38,
   "metadata": {},
   "outputs": [
    {
     "name": "stdout",
     "output_type": "stream",
     "text": [
      "(0, 1, {'weight': 2.0})\n",
      "(1, 2, {'weight': 1.0})\n",
      "(1, 7, {'weight': 5.0})\n",
      "(2, 5, {'weight': 6.0})\n",
      "(3, 4, {'weight': 4.0})\n",
      "(3, 7, {'weight': 7.0})\n",
      "(3, 5, {'weight': 2.0})\n",
      "(4, 6, {'weight': 2.0})\n"
     ]
    }
   ],
   "source": [
    "for i in list(G.edges(data=True)):\n",
    "    print(i)"
   ]
  },
  {
   "cell_type": "markdown",
   "metadata": {},
   "source": [
    "### Adjacency List for Undirected Weighted"
   ]
  },
  {
   "cell_type": "code",
   "execution_count": 39,
   "metadata": {},
   "outputs": [
    {
     "name": "stdout",
     "output_type": "stream",
     "text": [
      "Vertex\t Weight  Previous \n",
      "-------------------------\n",
      "0 \t 2.0 \t 1\n",
      "1 \t 0 \t None\n",
      "2 \t 1.0 \t 1\n",
      "3 \t 9.0 \t 5\n",
      "4 \t 13.0 \t 3\n",
      "5 \t 7.0 \t 2\n",
      "6 \t 15.0 \t 4\n",
      "7 \t 5.0 \t 1\n"
     ]
    }
   ],
   "source": [
    "output_list = dijkstra_list(G, 1)\n",
    "dijkstra_traversal_table(output_list)"
   ]
  },
  {
   "cell_type": "markdown",
   "metadata": {},
   "source": [
    "### Adjacency Matrix for Undirected Weighted"
   ]
  },
  {
   "cell_type": "code",
   "execution_count": 40,
   "metadata": {},
   "outputs": [
    {
     "data": {
      "text/plain": [
       "array([[0., 2., 0., 0., 0., 0., 0., 0.],\n",
       "       [2., 0., 1., 0., 0., 0., 0., 5.],\n",
       "       [0., 1., 0., 0., 0., 6., 0., 0.],\n",
       "       [0., 0., 0., 0., 4., 2., 0., 7.],\n",
       "       [0., 0., 0., 4., 0., 0., 2., 0.],\n",
       "       [0., 0., 6., 2., 0., 0., 0., 0.],\n",
       "       [0., 0., 0., 0., 2., 0., 0., 0.],\n",
       "       [0., 5., 0., 7., 0., 0., 0., 0.]])"
      ]
     },
     "execution_count": 40,
     "metadata": {},
     "output_type": "execute_result"
    }
   ],
   "source": [
    "A = nx.to_numpy_array(G)\n",
    "A"
   ]
  },
  {
   "cell_type": "code",
   "execution_count": 42,
   "metadata": {},
   "outputs": [
    {
     "name": "stdout",
     "output_type": "stream",
     "text": [
      "Vertex\t Weight  Previous \n",
      "-------------------------\n",
      "0 \t 2.0 \t 1\n",
      "1 \t 0 \t None\n",
      "2 \t 1.0 \t 1\n",
      "3 \t 9.0 \t 5\n",
      "4 \t 13.0 \t 3\n",
      "5 \t 7.0 \t 2\n",
      "6 \t 15.0 \t 4\n",
      "7 \t 5.0 \t 1\n"
     ]
    }
   ],
   "source": [
    "output_matrix = dijkstra_matrix(A, 1)\n",
    "dijkstra_traversal_table(output_matrix)"
   ]
  },
  {
   "cell_type": "markdown",
   "metadata": {},
   "source": [
    "### Printing Paths"
   ]
  },
  {
   "cell_type": "code",
   "execution_count": 43,
   "metadata": {},
   "outputs": [
    {
     "name": "stdout",
     "output_type": "stream",
     "text": [
      "1 --> 2 --> 5 --> 3 --> 4\n"
     ]
    }
   ],
   "source": [
    "src, target, path_1_to_4 = shortest_path(output_list, 4)\n",
    "print_path(src, target, path_1_to_4)"
   ]
  },
  {
   "cell_type": "markdown",
   "metadata": {},
   "source": [
    "## Directed Graph with Initialized Weights\n",
    "\n",
    "In this directed graph, weights have been initialized for each path. "
   ]
  },
  {
   "cell_type": "code",
   "execution_count": null,
   "metadata": {},
   "outputs": [],
   "source": [
    "G = nx.DiGraph()\n",
    "G.add_edge(0, 1,weight=3.0)\n",
    "G.add_edge(1, 2,weight=1.0)\n",
    "G.add_edge(3, 4,weight=4.0)\n",
    "G.add_edge(1, 5,weight=2.0)\n",
    "G.add_edge(3, 6,weight=8.0)\n",
    "G.add_edge(4, 6,weight=3.0)\n",
    "G.add_edge(5, 6,weight=2.0)\n",
    "draw_graph(G)\n"
   ]
  },
  {
   "cell_type": "markdown",
   "metadata": {},
   "source": [
    "<Here are the weights for the edges in the directed graph. "
   ]
  },
  {
   "cell_type": "code",
   "execution_count": null,
   "metadata": {},
   "outputs": [],
   "source": [
    "for i in list(G.edges(data=True)):\n",
    "    print(i)"
   ]
  },
  {
   "cell_type": "code",
   "execution_count": null,
   "metadata": {},
   "outputs": [],
   "source": [
    "A = nx.to_numpy_array(G)\n",
    "print(A)"
   ]
  },
  {
   "cell_type": "markdown",
   "metadata": {},
   "source": [
    "### Results"
   ]
  },
  {
   "cell_type": "code",
   "execution_count": null,
   "metadata": {},
   "outputs": [],
   "source": [
    "dijkstra_matrix(A, 0)"
   ]
  },
  {
   "cell_type": "code",
   "execution_count": null,
   "metadata": {},
   "outputs": [],
   "source": []
  },
  {
   "cell_type": "code",
   "execution_count": null,
   "metadata": {},
   "outputs": [],
   "source": []
  }
 ],
 "metadata": {
  "kernelspec": {
   "display_name": "Graph-Algos",
   "language": "python",
   "name": "graph-algos"
  },
  "language_info": {
   "codemirror_mode": {
    "name": "ipython",
    "version": 3
   },
   "file_extension": ".py",
   "mimetype": "text/x-python",
   "name": "python",
   "nbconvert_exporter": "python",
   "pygments_lexer": "ipython3",
   "version": "3.7.9"
  }
 },
 "nbformat": 4,
 "nbformat_minor": 4
}
