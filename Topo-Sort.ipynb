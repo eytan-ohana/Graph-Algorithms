{
 "cells": [
  {
   "cell_type": "markdown",
   "metadata": {},
   "source": [
    "# Topological Sort\n",
    "\n",
    "In a nutshell Toposort is an algorithm to sort the nodes in a graph such that if a node $u$ has an edge pointing to node $v$ than $u$ will come before $v$ in the ordering."
   ]
  },
  {
   "cell_type": "code",
   "execution_count": 1,
   "metadata": {},
   "outputs": [],
   "source": [
    "import networkx as nx\n",
    "import matplotlib.pyplot as plt\n",
    "from helper import draw_graph, clear_marks"
   ]
  },
  {
   "cell_type": "code",
   "execution_count": 2,
   "metadata": {},
   "outputs": [
    {
     "data": {
      "image/png": "[encoded data removed]",
      "text/plain": [
       "<Figure size 432x288 with 1 Axes>"
      ]
     },
     "metadata": {},
     "output_type": "display_data"
    }
   ],
   "source": [
    "G = nx.gn_graph(10)\n",
    "G.add_edges_from([(1, 2), (1, 3)])\n",
    "\n",
    "draw_graph(G)"
   ]
  },
  {
   "cell_type": "markdown",
   "metadata": {},
   "source": [
    "The algorithm for topo-sort is very easy to understand/implement. Here's the pseudocode:\n",
    "\n",
    "```\n",
    "function toposort(G):\n",
    "    while there are nodes in G:\n",
    "        Pick a random node in G with in-degree == 0\n",
    "        if no nodes found:\n",
    "            STOP --> the graph can't be topologically sorted\n",
    "        else:\n",
    "            remove the chosen node and all of \n",
    "                it's outgoing edges from the graph\n",
    "                and append the node to the output.\n",
    "```\n",
    "\n",
    "When we remove the node along with all its outgoing edges, the in-degrees of the nodes adjacent to the outging edges decrease by 1.\n",
    "\n",
    "__Notice that in order for toposort to work there can be no cycles in the graph, otherwise we would have a circular dependency and none of the nodes in the cycle will ever reach in-degree == 0.__"
   ]
  },
  {
   "cell_type": "code",
   "execution_count": 3,
   "metadata": {},
   "outputs": [],
   "source": [
    "# else block is only executed if for loop\n",
    "# finished normally, i.e. no breaks encountered\n",
    "def toposort(G):\n",
    "    G = G.copy()\n",
    "    nodes_sort = []\n",
    "    while G.nodes:\n",
    "        for node in G:\n",
    "            if G.in_degree(node) == 0:\n",
    "                nodes_sort.append(node)\n",
    "                G.remove_node(node)\n",
    "                break\n",
    "        else:\n",
    "            print('There is no topological sort for this graph.')\n",
    "            raise ValueError('Graph contains a cycle.', G)\n",
    "\n",
    "    return nodes_sort"
   ]
  },
  {
   "cell_type": "markdown",
   "metadata": {},
   "source": [
    "## Results"
   ]
  },
  {
   "cell_type": "code",
   "execution_count": 4,
   "metadata": {},
   "outputs": [
    {
     "name": "stdout",
     "output_type": "stream",
     "text": [
      "5 --> 6 --> 7 --> 1 --> 2 --> 3 --> 8 --> 4 --> 9 --> 0\n"
     ]
    }
   ],
   "source": [
    "try:\n",
    "    output = toposort(G)\n",
    "except ValueError as e:\n",
    "    print(e.args[0])\n",
    "    draw_graph(e.args[1])\n",
    "else:\n",
    "    for node in output[:-1]:\n",
    "        print(f'{node} --> ', end='')\n",
    "    print(output[-1])"
   ]
  },
  {
   "cell_type": "markdown",
   "metadata": {},
   "source": [
    "# Other implementations\n",
    "\n",
    "__Other implementations of toposort use a stack or a queue to maintain a list of nodes with in-degree=0.__ In our case above, this wasn't necessary since we could just iterate over each node and check if its in-degree was 0. After deleting the node from the graph, all the in-degrees of its neighbors automatically decreased by 1 thanks to `networkx`. For this reason the algorithm above is very clean, but it comes at a tradeoff; we have to make a copy of our graph everytime we want to run toposort.\n",
    "\n",
    "The idea behind each algorithm is that in each iteration we pop/dequeue a node which then gets saved to the output. __Remember:__ all nodes in the stack/queue already have an in-degree=0.\n",
    "\n",
    "These versions of the algorithm terminate when the stack/queue is empty. We know there is no possible toposort if the algorithm terminates and not all the nodes in our graph are in the output list.\n",
    "\n",
    "We'll implement each version of the algorithm using both stacks and queues for completeness."
   ]
  },
  {
   "cell_type": "markdown",
   "metadata": {},
   "source": [
    "##  Using a Queue\n",
    "\n",
    "To implement our queue, we'll use a python `deque` (pronounced deck) which stands for *double ended queue*. A `deque` behaves almost exactly like a regular python list except that we can append to and pop from both sides using `append`, `appendleft`, `pop`, and `popleft`.\n",
    "\n",
    "To enqueue an element, just `append` it to the deque (like in a list) and to dequeue an element just pop the first element using `popleft`."
   ]
  },
  {
   "cell_type": "code",
   "execution_count": 5,
   "metadata": {},
   "outputs": [],
   "source": [
    "from collections import deque\n",
    "\n",
    "def topo_queue(G):\n",
    "    output = []\n",
    "    degrees = {node: 0 for node in G.nodes}\n",
    "    \n",
    "    # calc in-degrees of each node\n",
    "    for node, neighbors in G.adj.items():\n",
    "        for neighbor in neighbors:\n",
    "            degrees[neighbor] += 1\n",
    "            \n",
    "    # enqueue all nodes with in-degree=0\n",
    "    queue = deque(node for node, deg in degrees.items() if deg == 0)\n",
    "    \n",
    "    # while the queue isn't empty\n",
    "    while queue:\n",
    "        node = queue.popleft()          # dequeue a node \n",
    "        for neighbor in G.adj[node]:         # decrease all its neighbors' degrees by 1\n",
    "            degrees[neighbor] -= 1\n",
    "            if degrees[neighbor] == 0:       # check if the neighbor's degree is now 0 \n",
    "                queue.append(neighbor)  # if so add it to the queue\n",
    "\n",
    "        output.append(node)\n",
    "    \n",
    "    # finally check if there are less nodes in the output then in the graph\n",
    "    if len(set(G.nodes) - set(output)) > 0:  \n",
    "        raise ValueError('The graph contains a cycle.')\n",
    "    else:\n",
    "        return output\n",
    "            "
   ]
  },
  {
   "cell_type": "markdown",
   "metadata": {},
   "source": [
    "### Results"
   ]
  },
  {
   "cell_type": "code",
   "execution_count": 6,
   "metadata": {},
   "outputs": [
    {
     "name": "stdout",
     "output_type": "stream",
     "text": [
      "5 --> 6 --> 7 --> 8 --> 9 --> 1 --> 4 --> 2 --> 3 --> 0\n"
     ]
    }
   ],
   "source": [
    "try:\n",
    "    output = topo_queue(G)\n",
    "except ValueError as e:\n",
    "    print(f'There is no topological sort for this graph.\\n{e}')\n",
    "else:\n",
    "    for node in output[:-1]:\n",
    "        print(f'{node} --> ', end='')\n",
    "    print(output[-1])"
   ]
  },
  {
   "cell_type": "markdown",
   "metadata": {},
   "source": [
    "##  Using a Stack\n",
    "\n",
    "The algorithm with a stack is the same as the one with a queue. We just replace our queue with a stack. Instead of enqueuing and dequeuing nodes, we are just pushing and popping them instead. __The only real difference between using a stack vs a queue is the order of the vertices in the output.__\n",
    "\n",
    "In order to implement our stack, we can use a normal python list. To push an element onto the stack just `append` it to the end of the list. To pop an element from the stack just `pop` it from the end of the list. "
   ]
  },
  {
   "cell_type": "code",
   "execution_count": 7,
   "metadata": {},
   "outputs": [],
   "source": [
    "def topo_stack(G):\n",
    "    output = []\n",
    "    degrees = {node: 0 for node in G.nodes}\n",
    "    \n",
    "    # calc in-degrees of each node\n",
    "    for node, neighbors in G.adj.items():\n",
    "        for neighbor in neighbors:\n",
    "            degrees[neighbor] += 1\n",
    "            \n",
    "    # push all nodes with in-degree=0\n",
    "    stack = [node for node, deg in degrees.items() if deg == 0]\n",
    "    \n",
    "    # while the stack isn't empty\n",
    "    while stack:\n",
    "        node = stack.pop()              # pop a node from the stack\n",
    "        for neighbor in G.adj[node]:    # decrease all its neighbors' degrees by 1\n",
    "            degrees[neighbor] -= 1\n",
    "            if degrees[neighbor] == 0:  # if a neighbor's degree is now 0 \n",
    "                stack.append(neighbor)  #                push it on top of the stack\n",
    "\n",
    "        output.append(node)\n",
    "    \n",
    "    # finally check if there are less nodes in the output then in the graph\n",
    "    if len(set(G.nodes) - set(output)) > 0:  \n",
    "        raise ValueError('The graph contains a cycle.')\n",
    "    else:\n",
    "        return output"
   ]
  },
  {
   "cell_type": "markdown",
   "metadata": {},
   "source": [
    "### Results"
   ]
  },
  {
   "cell_type": "code",
   "execution_count": 8,
   "metadata": {},
   "outputs": [
    {
     "name": "stdout",
     "output_type": "stream",
     "text": [
      "9 --> 8 --> 4 --> 7 --> 1 --> 2 --> 6 --> 5 --> 3 --> 0\n"
     ]
    }
   ],
   "source": [
    "try:\n",
    "    output = topo_stack(G)\n",
    "except ValueError as e:\n",
    "    print(f'There is no topological sort for this graph.\\n{e}')\n",
    "else:\n",
    "    for node in output[:-1]:\n",
    "        print(f'{node} --> ', end='')\n",
    "    print(output[-1])"
   ]
  },
  {
   "cell_type": "code",
   "execution_count": null,
   "metadata": {},
   "outputs": [],
   "source": []
  }
 ],
 "metadata": {
  "kernelspec": {
   "display_name": "Graph-Algos",
   "language": "python",
   "name": "graph-algos"
  },
  "language_info": {
   "codemirror_mode": {
    "name": "ipython",
    "version": 3
   },
   "file_extension": ".py",
   "mimetype": "text/x-python",
   "name": "python",
   "nbconvert_exporter": "python",
   "pygments_lexer": "ipython3",
   "version": "3.7.9"
  }
 },
 "nbformat": 4,
 "nbformat_minor": 4
}
