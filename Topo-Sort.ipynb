{
 "cells": [
  {
   "cell_type": "markdown",
   "metadata": {},
   "source": [
    "# Topological Sort\n",
    "\n",
    "In a nutshell Toposort is an algorithm to sort the nodes in a graph such that if a node $u$ has an edge pointing to node $v$ than $u$ will come before $v$ in the ordering."
   ]
  },
  {
   "cell_type": "code",
   "execution_count": 1,
   "metadata": {},
   "outputs": [],
   "source": [
    "import networkx as nx\n",
    "import matplotlib.pyplot as plt\n",
    "from helper import draw_graph, clear_marks"
   ]
  },
  {
   "cell_type": "code",
   "execution_count": 32,
   "metadata": {},
   "outputs": [
    {
     "data": {
      "image/png": "[encoded data removed]",
      "text/plain": [
       "<Figure size 432x288 with 1 Axes>"
      ]
     },
     "metadata": {},
     "output_type": "display_data"
    }
   ],
   "source": [
    "G = nx.gn_graph(10)\n",
    "G.add_edges_from([(1, 2), (1, 3)])\n",
    "\n",
    "draw_graph(G)"
   ]
  },
  {
   "cell_type": "markdown",
   "metadata": {},
   "source": [
    "The algorithm for topo-sort is very easy to understand/implement. Here's the pseudocode:\n",
    "\n",
    "```\n",
    "function toposort(G):\n",
    "    while there are nodes in G:\n",
    "        Pick a random node in G with in-degree == 0\n",
    "        if no nodes found:\n",
    "            STOP --> the graph can't be topologically sorted\n",
    "        else:\n",
    "            remove the chosen node and all of \n",
    "                it's outgoing edges from the graph\n",
    "                and append the node to the output.\n",
    "```\n",
    "\n",
    "When we remove the node along with all its outgoing edges, the in-degrees of the nodes adjacent to the outging edges decrease by 1.\n",
    "\n",
    "__Notice that in order for toposort to work there can be no cycles in the graph, otherwise we would have a circular dependency and none of the nodes in the cycle will ever reach in-degree == 0.__"
   ]
  },
  {
   "cell_type": "code",
   "execution_count": 33,
   "metadata": {},
   "outputs": [],
   "source": [
    "# else block is only executed if for loop\n",
    "# finished normally, i.e. no breaks encountered\n",
    "def toposort(G):\n",
    "    G = G.copy()\n",
    "    nodes_sort = []\n",
    "    while G.nodes:\n",
    "        for node in G:\n",
    "            if G.in_degree(node) == 0:\n",
    "                nodes_sort.append(node)\n",
    "                G.remove_node(node)\n",
    "                break\n",
    "        else:\n",
    "            print('There is no topological sort for this graph.')\n",
    "            raise ValueError('Graph contains a cycle', G)\n",
    "\n",
    "    return nodes_sort"
   ]
  },
  {
   "cell_type": "markdown",
   "metadata": {},
   "source": [
    "## Results"
   ]
  },
  {
   "cell_type": "code",
   "execution_count": 52,
   "metadata": {},
   "outputs": [
    {
     "name": "stdout",
     "output_type": "stream",
     "text": [
      "5 --> 8 --> 7 --> 6 --> 4 --> 1 --> 2 --> 3 --> 9 --> 0\n"
     ]
    }
   ],
   "source": [
    "try:\n",
    "    output = toposort(G)\n",
    "except Exception as e:\n",
    "    print(e)\n",
    "else:\n",
    "    for node in output[:-1]:\n",
    "        print(f'{node} --> ', end='')\n",
    "    print(output[-1])"
   ]
  },
  {
   "cell_type": "markdown",
   "metadata": {},
   "source": [
    "# Other implementations\n",
    "\n",
    "Other implementations of toposort might use a stack or a queue to maintain a list of nodes with in-degree=0. In our case above this wasn't necessary since we could just iterate over each node and check if its in-degree was 0. After deleting the node from the graph, all the in-degrees of its neighbors automatically decreased by 1. For this reason the algorithm above is very clean, but it comes at the tradeoff of having to make a copy of our graph everytime we run toposort.\n",
    "\n",
    "In any case, we'll implement each version of the algorithm for completeness. In each iteration we pop/dequeue a node which then gets saved to the output. __REMEMBER:__ All nodes in the stack/queue already have an in-degree=0.\n",
    "\n",
    "This version of the algorithm terminates when the stack/queue is empty. We know there is no possible toposort if the algorithm terminates and not all the nodes in the graph are in our output. "
   ]
  },
  {
   "cell_type": "markdown",
   "metadata": {},
   "source": [
    "# Queue implementation"
   ]
  },
  {
   "cell_type": "code",
   "execution_count": 50,
   "metadata": {},
   "outputs": [],
   "source": [
    "def topo_queue(G):\n",
    "    output = []\n",
    "    deg0_queue = deque()\n",
    "    degrees = {node: 0 for node in G.nodes}\n",
    "    \n",
    "    # calc in-degrees of each node\n",
    "    for node, neighbors in G.adj.items():\n",
    "        for neighbor in neighbors:\n",
    "            degrees[neighbor] += 1\n",
    "            \n",
    "    # enqueue all nodes with degree=0\n",
    "    for node, deg in degrees.items():\n",
    "        if deg == 0:\n",
    "            deg0_queue.append(node)\n",
    "    \n",
    "    while deg0_queue:\n",
    "        node = deg0_queue.popleft()\n",
    "        output.append(node)\n",
    "        for neighbor in G.adj[node]:\n",
    "            degrees[neighbor] -= 1\n",
    "            if degrees[neighbor] == 0:\n",
    "                deg0_queue.append(neighbor)\n",
    "    \n",
    "    if len(set(G.nodes) - set(output)) > 0:\n",
    "        raise Exception('There is no topological sort for this graph.')\n",
    "    else:\n",
    "        return output\n",
    "            "
   ]
  },
  {
   "cell_type": "code",
   "execution_count": 53,
   "metadata": {},
   "outputs": [
    {
     "name": "stdout",
     "output_type": "stream",
     "text": [
      "5 --> 8 --> 9 --> 7 --> 6 --> 4 --> 1 --> 2 --> 3 --> 0\n"
     ]
    }
   ],
   "source": [
    "try:\n",
    "    output = topo_queue(G)\n",
    "except Exception as e:\n",
    "    print(e)\n",
    "else:\n",
    "    for node in output[:-1]:\n",
    "        print(f'{node} --> ', end='')\n",
    "    print(output[-1])"
   ]
  },
  {
   "cell_type": "code",
   "execution_count": null,
   "metadata": {},
   "outputs": [],
   "source": []
  }
 ],
 "metadata": {
  "kernelspec": {
   "display_name": "Graph-Algos",
   "language": "python",
   "name": "graph-algos"
  },
  "language_info": {
   "codemirror_mode": {
    "name": "ipython",
    "version": 3
   },
   "file_extension": ".py",
   "mimetype": "text/x-python",
   "name": "python",
   "nbconvert_exporter": "python",
   "pygments_lexer": "ipython3",
   "version": "3.7.9"
  }
 },
 "nbformat": 4,
 "nbformat_minor": 4
}
